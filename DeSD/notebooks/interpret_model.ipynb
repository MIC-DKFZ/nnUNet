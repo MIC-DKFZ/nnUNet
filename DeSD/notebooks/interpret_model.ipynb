{
 "cells": [
  {
   "cell_type": "code",
   "execution_count": 2,
   "metadata": {},
   "outputs": [
    {
     "name": "stderr",
     "output_type": "stream",
     "text": [
      "WARNING:root:Be aware that since since ncct-tilt the image provided in ncct field will be the ncct-tilt. GT masks will also be adjusted.\n"
     ]
    },
    {
     "name": "stdout",
     "output_type": "stream",
     "text": [
      "Using device: cpu\n",
      "\n",
      "#######################################################################\n",
      "Please cite the following paper when using nnU-Net:\n",
      "Isensee, F., Jaeger, P. F., Kohl, S. A., Petersen, J., & Maier-Hein, K. H. (2021). nnU-Net: a self-configuring method for deep learning-based biomedical image segmentation. Nature methods, 18(2), 203-211.\n",
      "#######################################################################\n",
      "\n",
      "Using pretrained enconder: True\n",
      "When initializing - The model has 100.0% of trainable parameters \n"
     ]
    },
    {
     "name": "stderr",
     "output_type": "stream",
     "text": [
      "/home/jseia/anaconda3/envs/nnunet_gpu2/lib/python3.10/site-packages/captum/_utils/gradient.py:57: UserWarning: Input Tensor 0 did not already require gradients, required_grads has been set automatically.\n",
      "  warnings.warn(\n",
      "/home/jseia/anaconda3/envs/nnunet_gpu2/lib/python3.10/site-packages/captum/attr/_core/guided_backprop_deconvnet.py:64: UserWarning: Setting backward hooks on ReLU activations.The hooks will be removed after the attribution is finished\n",
      "  warnings.warn(\n"
     ]
    }
   ],
   "source": [
    "import os\n",
    "from pathlib import Path\n",
    "import pandas as pd\n",
    "\n",
    "datapath = Path('/home/jseia/Desktop/thesis/data/')\n",
    "csv_path = Path('/home/jseia/Desktop/thesis/code/stroke-seg/data/dataset.csv')\n",
    "base_path = Path('/home/jseia/Desktop/thesis/code/nnUNet_ais/nnunetv2')\n",
    "os.environ['nnUNet_raw'] = str(base_path/'nnUNet_raw')\n",
    "os.environ['nnUNet_preprocessed'] = str(base_path/'preprocessed')\n",
    "os.environ['nnUNet_results'] = str(base_path/'nnUNet_trained_models')\n",
    "from DeSD.model_interpreter import EmpeddingProjector, NetProjector, CAMProjector, DimReductor, SaliencyGenerator\n",
    "\n",
    "import sys ; sys.path.insert(0, '/home/jseia/Desktop/thesis/code/stroke-seg')\n",
    "from dataset.dataset import StrokeDataset\n",
    "import sys ; sys.path.remove('/home/jseia/Desktop/thesis/code/stroke-seg')\n",
    "import captum.attr as attr\n",
    "\n",
    "dataset = StrokeDataset(\n",
    "    datapath=datapath,\n",
    "    datasets=['apis', 'aisd', 'tum', 'tbi'], \n",
    "    data_csv_path=csv_path,\n",
    "    cases_to_exclude=['6uAB525', '2Fbg984', '5LCf528', '1yKF684', '5JwP325', '3qGC237', '4xcq375'],\n",
    "    pathology=['ais', 'normal'],\n",
    "    modalities=['ncct', 'ncct-tilt'],\n",
    "    partitions=['validation'],\n",
    "    standard=['gold', 'silver', '-'],\n",
    "    filter_discard=True\n",
    ")\n",
    "\n",
    "# net_projector = NetProjector(\n",
    "#     Path('/home/jseia/Desktop/thesis/code/nnUNet_ais/DeSD/cfg_files/ssl_pretraining_first_try/config_not_tbi_1d.yml'),\n",
    "#     Path('/home/jseia/Desktop/thesis/code/stroke-seg/experiments/DeSD/non_tbi/non_tbi_1d/checkpoint.pth'),\n",
    "#     'cpu', 10\n",
    "# )\n",
    "# embedding_projector = EmpeddingProjector(\n",
    "#     cfg_file_path=Path('/home/jseia/Desktop/thesis/code/nnUNet_ais/DeSD/cfg_files/ssl_pretraining_first_try/config_not_tbi_1d.yml'),\n",
    "#     chckpt_file_path=Path('/home/jseia/Desktop/thesis/code/stroke-seg/experiments/DeSD/non_tbi/non_tbi_1d/checkpoint.pth'),\n",
    "#     device='cpu', batch_size=1\n",
    "# )\n",
    "# projections = embedding_projector(dataset=dataset)\n",
    "projections = pd.read_csv('temp.csv', index_col=0)\n",
    "dim_reductor = DimReductor(method_kwargs={'n_components':2})\n",
    "projections_pca = dim_reductor(projections)\n",
    "# cam_projector = CAMProjector(\n",
    "#     cfg_file_path=Path('/home/jseia/Desktop/thesis/code/nnUNet_ais/DeSD/cfg_files/ssl_pretraining_first_try/config_not_tbi_1d.yml'),\n",
    "#     chckpt_file_path=Path('/home/jseia/Desktop/thesis/code/stroke-seg/experiments/DeSD/non_tbi/non_tbi_1d/checkpoint.pth'),\n",
    "#     device='cpu', batch_size=1\n",
    "# )\n",
    "# saliency_gen = SaliencyGenerator(\n",
    "#     cfg_file_path=Path('/home/jseia/Desktop/thesis/code/nnUNet_ais/DeSD/cfg_files/ssl_pretraining_first_try/config_not_tbi_1d.yml'),\n",
    "#     chckpt_file_path=Path('/home/jseia/Desktop/thesis/code/stroke-seg/experiments/DeSD/non_tbi/non_tbi_1d/checkpoint.pth'),\n",
    "#     device='cpu', dataset=dataset, method=attr.Saliency, layer=False, suffix='sal')\n",
    "saliency_gen = SaliencyGenerator(\n",
    "    cfg_file_path=Path('/home/jseia/Desktop/thesis/code/nnUNet_ais/DeSD/cfg_files/ssl_pretraining_first_try/config_not_tbi_1d.yml'),\n",
    "    chckpt_file_path=Path('/home/jseia/Desktop/thesis/code/stroke-seg/experiments/DeSD/non_tbi/non_tbi_1d/checkpoint.pth'),\n",
    "    device='cpu', dataset=dataset, method=attr.GuidedGradCam, layer=True, suffix='ggcam')\n",
    "results = saliency_gen(n=1, save_saliency=True, out_path=Path('/home/jseia/Desktop/thesis/experiments/try_saliency'))\n"
   ]
  },
  {
   "cell_type": "code",
   "execution_count": null,
   "metadata": {},
   "outputs": [
    {
     "data": {
      "text/plain": [
       "Index(['subject', 'ais', 'dataset_name', 'feat0', 'feat1', 'feat2', 'feat3',\n",
       "       'feat4', 'feat5', 'feat6',\n",
       "       ...\n",
       "       'feat310', 'feat311', 'feat312', 'feat313', 'feat314', 'feat315',\n",
       "       'feat316', 'feat317', 'feat318', 'feat319'],\n",
       "      dtype='object', length=323)"
      ]
     },
     "execution_count": 2,
     "metadata": {},
     "output_type": "execute_result"
    }
   ],
   "source": [
    "projections.columns"
   ]
  },
  {
   "cell_type": "code",
   "execution_count": null,
   "metadata": {},
   "outputs": [
    {
     "ename": "NameError",
     "evalue": "name 'projections_wo_tbi_pca_00' is not defined",
     "output_type": "error",
     "traceback": [
      "\u001b[0;31m---------------------------------------------------------------------------\u001b[0m",
      "\u001b[0;31mNameError\u001b[0m                                 Traceback (most recent call last)",
      "\u001b[0;32m/tmp/ipykernel_186076/142583227.py\u001b[0m in \u001b[0;36m<module>\u001b[0;34m\u001b[0m\n\u001b[1;32m      3\u001b[0m \u001b[0;32mimport\u001b[0m \u001b[0mseaborn\u001b[0m \u001b[0;32mas\u001b[0m \u001b[0msns\u001b[0m\u001b[0;34m\u001b[0m\u001b[0;34m\u001b[0m\u001b[0m\n\u001b[1;32m      4\u001b[0m \u001b[0mfg\u001b[0m\u001b[0;34m,\u001b[0m \u001b[0max\u001b[0m \u001b[0;34m=\u001b[0m \u001b[0mplt\u001b[0m\u001b[0;34m.\u001b[0m\u001b[0msubplots\u001b[0m\u001b[0;34m(\u001b[0m\u001b[0;36m1\u001b[0m\u001b[0;34m,\u001b[0m \u001b[0;36m3\u001b[0m\u001b[0;34m,\u001b[0m \u001b[0mfigsize\u001b[0m\u001b[0;34m=\u001b[0m\u001b[0;34m(\u001b[0m\u001b[0;36m12\u001b[0m\u001b[0;34m,\u001b[0m\u001b[0;36m3\u001b[0m\u001b[0;34m)\u001b[0m\u001b[0;34m)\u001b[0m\u001b[0;34m\u001b[0m\u001b[0;34m\u001b[0m\u001b[0m\n\u001b[0;32m----> 5\u001b[0;31m \u001b[0msns\u001b[0m\u001b[0;34m.\u001b[0m\u001b[0mscatterplot\u001b[0m\u001b[0;34m(\u001b[0m\u001b[0mprojections_wo_tbi_pca_00\u001b[0m\u001b[0;34m,\u001b[0m \u001b[0mx\u001b[0m\u001b[0;34m=\u001b[0m\u001b[0;34m'pca0'\u001b[0m\u001b[0;34m,\u001b[0m \u001b[0my\u001b[0m\u001b[0;34m=\u001b[0m\u001b[0;34m'pca1'\u001b[0m\u001b[0;34m,\u001b[0m \u001b[0mhue\u001b[0m\u001b[0;34m=\u001b[0m\u001b[0;34m'dataset_name'\u001b[0m\u001b[0;34m,\u001b[0m \u001b[0max\u001b[0m\u001b[0;34m=\u001b[0m\u001b[0max\u001b[0m\u001b[0;34m[\u001b[0m\u001b[0;36m0\u001b[0m\u001b[0;34m]\u001b[0m\u001b[0;34m)\u001b[0m\u001b[0;34m\u001b[0m\u001b[0;34m\u001b[0m\u001b[0m\n\u001b[0m\u001b[1;32m      6\u001b[0m \u001b[0max\u001b[0m\u001b[0;34m[\u001b[0m\u001b[0;36m0\u001b[0m\u001b[0;34m]\u001b[0m\u001b[0;34m.\u001b[0m\u001b[0mset_title\u001b[0m\u001b[0;34m(\u001b[0m\u001b[0;34m'PCA - epoch:0 - SSL trained wo TBI'\u001b[0m\u001b[0;34m)\u001b[0m\u001b[0;34m\u001b[0m\u001b[0;34m\u001b[0m\u001b[0m\n\u001b[1;32m      7\u001b[0m \u001b[0msns\u001b[0m\u001b[0;34m.\u001b[0m\u001b[0mdespine\u001b[0m\u001b[0;34m(\u001b[0m\u001b[0;34m)\u001b[0m\u001b[0;34m\u001b[0m\u001b[0;34m\u001b[0m\u001b[0m\n",
      "\u001b[0;31mNameError\u001b[0m: name 'projections_wo_tbi_pca_00' is not defined"
     ]
    },
    {
     "data": {
      "image/png": "[encoded data removed]",
      "text/plain": [
       "<Figure size 1200x300 with 3 Axes>"
      ]
     },
     "metadata": {},
     "output_type": "display_data"
    }
   ],
   "source": [
    "%matplotlib inline\n",
    "import matplotlib.pyplot as plt\n",
    "import seaborn as sns\n",
    "fg, ax = plt.subplots(1, 3, figsize=(12,3))\n",
    "sns.scatterplot(projections_wo_tbi_pca_00, x='pca0', y='pca1', hue='dataset_name', ax=ax[0])\n",
    "ax[0].set_title('PCA - epoch:0 - SSL trained wo TBI')\n",
    "sns.despine()\n",
    "sns.scatterplot(projections_wo_tbi_pca_50, x='pca0', y='pca1', hue='dataset_name', ax=ax[1])\n",
    "ax[1].set_title('PCA - epoch:50 - SSL trained wo TBI')\n",
    "sns.despine()\n",
    "sns.scatterplot(projections_wo_tbi_pca_100, x='pca0', y='pca1', hue='dataset_name', ax=ax[2])\n",
    "ax[2].set_title('PCA - epoch:100 - SSL trained wo TBI')\n",
    "sns.despine()\n",
    "plt.show()"
   ]
  }
 ],
 "metadata": {
  "kernelspec": {
   "display_name": "Python 3",
   "language": "python",
   "name": "python3"
  },
  "language_info": {
   "codemirror_mode": {
    "name": "ipython",
    "version": 3
   },
   "file_extension": ".py",
   "mimetype": "text/x-python",
   "name": "python",
   "nbconvert_exporter": "python",
   "pygments_lexer": "ipython3",
   "version": "3.10.9"
  },
  "orig_nbformat": 4
 },
 "nbformat": 4,
 "nbformat_minor": 2
}
