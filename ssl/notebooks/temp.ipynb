{
 "cells": [
  {
   "cell_type": "code",
   "execution_count": 1,
   "metadata": {},
   "outputs": [],
   "source": [
    "import json\n",
    "with open('/home/jseia/Desktop/thesis/code/nnUNet_ais/nnunetv2/preprocessed/Dataset026_AIS/splits_final_complete.json', 'r') as jfile:\n",
    "    bla = json.load(jfile)"
   ]
  },
  {
   "cell_type": "code",
   "execution_count": 6,
   "metadata": {},
   "outputs": [
    {
     "data": {
      "text/plain": [
       "dict_keys(['train', 'val'])"
      ]
     },
     "execution_count": 6,
     "metadata": {},
     "output_type": "execute_result"
    }
   ],
   "source": [
    "bla[0].keys()"
   ]
  },
  {
   "cell_type": "code",
   "execution_count": 15,
   "metadata": {},
   "outputs": [
    {
     "name": "stderr",
     "output_type": "stream",
     "text": [
      "100%|██████████| 4379/4379 [00:29<00:00, 149.13it/s]\n"
     ]
    }
   ],
   "source": [
    "import nibabel as nib\n",
    "import multiprocessing as mp\n",
    "import pandas as pd\n",
    "from tqdm import tqdm\n",
    "\n",
    "\n",
    "def temp(file):\n",
    "    try:\n",
    "        imageNII = nib.load(file)\n",
    "        image = imageNII.get_fdata()\n",
    "    except:\n",
    "        print(file)\n",
    "\n",
    "file = '/home/jseia/Desktop/thesis/code/nnUNet_ais/nnunetv2/preprocessed/Dataset026_AIS/ssl_dataset.txt'\n",
    "files = [i[0] for i in pd.read_csv(file, header=None).values]\n",
    "with mp.Pool(mp.cpu_count()) as pool:\n",
    "    for _ in tqdm(pool.imap(temp, files), total=len(files)):\n",
    "        pass"
   ]
  },
  {
   "cell_type": "code",
   "execution_count": 17,
   "metadata": {},
   "outputs": [
    {
     "data": {
      "text/plain": [
       "914"
      ]
     },
     "execution_count": 17,
     "metadata": {},
     "output_type": "execute_result"
    }
   ],
   "source": [
    "import json\n",
    "\n",
    "with open('/home/jseia/Desktop/thesis/code/nnUNet_ais/nnunetv2/preprocessed/Dataset026_AIS/splits_final_complete_full.json', 'r') as jfile:\n",
    "    a = json.load(jfile)\n",
    "\n",
    "len(a[0]['train'])\n",
    "\n",
    "\n",
    "\n",
    "\n",
    "len(a[0]['train'])"
   ]
  },
  {
   "cell_type": "code",
   "execution_count": 21,
   "metadata": {},
   "outputs": [
    {
     "name": "stdout",
     "output_type": "stream",
     "text": [
      "9929\n"
     ]
    }
   ],
   "source": [
    "from pathlib import Path\n",
    "list_path = '/home/jseia/Desktop/thesis/code/nnUNet_ais/nnunetv2/preprocessed/Dataset026_AIS/ssl_dataset.txt'\n",
    "img_paths = [Path(i_id.strip().split()[0]) for i_id in open(list_path)]\n",
    "\n",
    "with open('/home/jseia/Desktop/thesis/code/nnUNet_ais/nnunetv2/preprocessed/Dataset026_AIS/splits_final_complete_full.json', 'r') as jfile:\n",
    "    a = json.load(jfile)\n",
    "\n",
    "with open('/home/jseia/Desktop/thesis/code/nnUNet_ais/nnunetv2/preprocessed/Dataset026_AIS/splits_final.json', 'r') as jfile:\n",
    "    b = json.load(jfile)\n",
    "\n",
    "img_paths = [\n",
    "    img_path for img_path in img_paths if img_path.name.split('_')[0] in a[0]['train']]\n",
    "print(len(img_paths))"
   ]
  }
 ],
 "metadata": {
  "kernelspec": {
   "display_name": "Python 3",
   "language": "python",
   "name": "python3"
  },
  "language_info": {
   "codemirror_mode": {
    "name": "ipython",
    "version": 3
   },
   "file_extension": ".py",
   "mimetype": "text/x-python",
   "name": "python",
   "nbconvert_exporter": "python",
   "pygments_lexer": "ipython3",
   "version": "3.10.9"
  },
  "orig_nbformat": 4
 },
 "nbformat": 4,
 "nbformat_minor": 2
}
