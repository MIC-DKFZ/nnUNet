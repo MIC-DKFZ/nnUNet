{
 "cells": [
  {
   "cell_type": "code",
   "execution_count": 1,
   "metadata": {},
   "outputs": [],
   "source": [
    "import torch"
   ]
  },
  {
   "cell_type": "code",
   "execution_count": 12,
   "metadata": {},
   "outputs": [],
   "source": [
    "c = torch.load('/home/jseia/Desktop/thesis/experiments/nnunet_encoder/tum/ssl_checkpoint.pth')"
   ]
  },
  {
   "cell_type": "code",
   "execution_count": 15,
   "metadata": {},
   "outputs": [
    {
     "data": {
      "text/plain": [
       "odict_keys(['backbone.net.stages.0.0.convs.0.conv.weight', 'backbone.net.stages.0.0.convs.0.conv.bias', 'backbone.net.stages.0.0.convs.0.norm.weight', 'backbone.net.stages.0.0.convs.0.norm.bias', 'backbone.net.stages.0.0.convs.0.all_modules.0.weight', 'backbone.net.stages.0.0.convs.0.all_modules.0.bias', 'backbone.net.stages.0.0.convs.0.all_modules.1.weight', 'backbone.net.stages.0.0.convs.0.all_modules.1.bias', 'backbone.net.stages.0.0.convs.1.conv.weight', 'backbone.net.stages.0.0.convs.1.conv.bias', 'backbone.net.stages.0.0.convs.1.norm.weight', 'backbone.net.stages.0.0.convs.1.norm.bias', 'backbone.net.stages.0.0.convs.1.all_modules.0.weight', 'backbone.net.stages.0.0.convs.1.all_modules.0.bias', 'backbone.net.stages.0.0.convs.1.all_modules.1.weight', 'backbone.net.stages.0.0.convs.1.all_modules.1.bias', 'backbone.net.stages.1.0.convs.0.conv.weight', 'backbone.net.stages.1.0.convs.0.conv.bias', 'backbone.net.stages.1.0.convs.0.norm.weight', 'backbone.net.stages.1.0.convs.0.norm.bias', 'backbone.net.stages.1.0.convs.0.all_modules.0.weight', 'backbone.net.stages.1.0.convs.0.all_modules.0.bias', 'backbone.net.stages.1.0.convs.0.all_modules.1.weight', 'backbone.net.stages.1.0.convs.0.all_modules.1.bias', 'backbone.net.stages.1.0.convs.1.conv.weight', 'backbone.net.stages.1.0.convs.1.conv.bias', 'backbone.net.stages.1.0.convs.1.norm.weight', 'backbone.net.stages.1.0.convs.1.norm.bias', 'backbone.net.stages.1.0.convs.1.all_modules.0.weight', 'backbone.net.stages.1.0.convs.1.all_modules.0.bias', 'backbone.net.stages.1.0.convs.1.all_modules.1.weight', 'backbone.net.stages.1.0.convs.1.all_modules.1.bias', 'backbone.net.stages.2.0.convs.0.conv.weight', 'backbone.net.stages.2.0.convs.0.conv.bias', 'backbone.net.stages.2.0.convs.0.norm.weight', 'backbone.net.stages.2.0.convs.0.norm.bias', 'backbone.net.stages.2.0.convs.0.all_modules.0.weight', 'backbone.net.stages.2.0.convs.0.all_modules.0.bias', 'backbone.net.stages.2.0.convs.0.all_modules.1.weight', 'backbone.net.stages.2.0.convs.0.all_modules.1.bias', 'backbone.net.stages.2.0.convs.1.conv.weight', 'backbone.net.stages.2.0.convs.1.conv.bias', 'backbone.net.stages.2.0.convs.1.norm.weight', 'backbone.net.stages.2.0.convs.1.norm.bias', 'backbone.net.stages.2.0.convs.1.all_modules.0.weight', 'backbone.net.stages.2.0.convs.1.all_modules.0.bias', 'backbone.net.stages.2.0.convs.1.all_modules.1.weight', 'backbone.net.stages.2.0.convs.1.all_modules.1.bias', 'backbone.net.stages.3.0.convs.0.conv.weight', 'backbone.net.stages.3.0.convs.0.conv.bias', 'backbone.net.stages.3.0.convs.0.norm.weight', 'backbone.net.stages.3.0.convs.0.norm.bias', 'backbone.net.stages.3.0.convs.0.all_modules.0.weight', 'backbone.net.stages.3.0.convs.0.all_modules.0.bias', 'backbone.net.stages.3.0.convs.0.all_modules.1.weight', 'backbone.net.stages.3.0.convs.0.all_modules.1.bias', 'backbone.net.stages.3.0.convs.1.conv.weight', 'backbone.net.stages.3.0.convs.1.conv.bias', 'backbone.net.stages.3.0.convs.1.norm.weight', 'backbone.net.stages.3.0.convs.1.norm.bias', 'backbone.net.stages.3.0.convs.1.all_modules.0.weight', 'backbone.net.stages.3.0.convs.1.all_modules.0.bias', 'backbone.net.stages.3.0.convs.1.all_modules.1.weight', 'backbone.net.stages.3.0.convs.1.all_modules.1.bias', 'backbone.net.stages.4.0.convs.0.conv.weight', 'backbone.net.stages.4.0.convs.0.conv.bias', 'backbone.net.stages.4.0.convs.0.norm.weight', 'backbone.net.stages.4.0.convs.0.norm.bias', 'backbone.net.stages.4.0.convs.0.all_modules.0.weight', 'backbone.net.stages.4.0.convs.0.all_modules.0.bias', 'backbone.net.stages.4.0.convs.0.all_modules.1.weight', 'backbone.net.stages.4.0.convs.0.all_modules.1.bias', 'backbone.net.stages.4.0.convs.1.conv.weight', 'backbone.net.stages.4.0.convs.1.conv.bias', 'backbone.net.stages.4.0.convs.1.norm.weight', 'backbone.net.stages.4.0.convs.1.norm.bias', 'backbone.net.stages.4.0.convs.1.all_modules.0.weight', 'backbone.net.stages.4.0.convs.1.all_modules.0.bias', 'backbone.net.stages.4.0.convs.1.all_modules.1.weight', 'backbone.net.stages.4.0.convs.1.all_modules.1.bias', 'backbone.net.stages.5.0.convs.0.conv.weight', 'backbone.net.stages.5.0.convs.0.conv.bias', 'backbone.net.stages.5.0.convs.0.norm.weight', 'backbone.net.stages.5.0.convs.0.norm.bias', 'backbone.net.stages.5.0.convs.0.all_modules.0.weight', 'backbone.net.stages.5.0.convs.0.all_modules.0.bias', 'backbone.net.stages.5.0.convs.0.all_modules.1.weight', 'backbone.net.stages.5.0.convs.0.all_modules.1.bias', 'backbone.net.stages.5.0.convs.1.conv.weight', 'backbone.net.stages.5.0.convs.1.conv.bias', 'backbone.net.stages.5.0.convs.1.norm.weight', 'backbone.net.stages.5.0.convs.1.norm.bias', 'backbone.net.stages.5.0.convs.1.all_modules.0.weight', 'backbone.net.stages.5.0.convs.1.all_modules.0.bias', 'backbone.net.stages.5.0.convs.1.all_modules.1.weight', 'backbone.net.stages.5.0.convs.1.all_modules.1.bias', 'head.mlp.0.weight', 'head.mlp.0.bias', 'head.mlp.1.weight', 'head.mlp.1.bias', 'head.mlp.1.running_mean', 'head.mlp.1.running_var', 'head.mlp.1.num_batches_tracked', 'head.mlp.3.weight', 'head.mlp.3.bias', 'head.mlp.4.weight', 'head.mlp.4.bias', 'head.mlp.4.running_mean', 'head.mlp.4.running_var', 'head.mlp.4.num_batches_tracked', 'head.mlp.6.weight', 'head.mlp.6.bias', 'head.last_layer.weight_g', 'head.last_layer.weight_v', 'head_1.mlp.0.weight', 'head_1.mlp.0.bias', 'head_1.mlp.1.weight', 'head_1.mlp.1.bias', 'head_1.mlp.1.running_mean', 'head_1.mlp.1.running_var', 'head_1.mlp.1.num_batches_tracked', 'head_1.mlp.3.weight', 'head_1.mlp.3.bias', 'head_1.mlp.4.weight', 'head_1.mlp.4.bias', 'head_1.mlp.4.running_mean', 'head_1.mlp.4.running_var', 'head_1.mlp.4.num_batches_tracked', 'head_1.mlp.6.weight', 'head_1.mlp.6.bias', 'head_1.last_layer.weight_g', 'head_1.last_layer.weight_v', 'head_2.mlp.0.weight', 'head_2.mlp.0.bias', 'head_2.mlp.1.weight', 'head_2.mlp.1.bias', 'head_2.mlp.1.running_mean', 'head_2.mlp.1.running_var', 'head_2.mlp.1.num_batches_tracked', 'head_2.mlp.3.weight', 'head_2.mlp.3.bias', 'head_2.mlp.4.weight', 'head_2.mlp.4.bias', 'head_2.mlp.4.running_mean', 'head_2.mlp.4.running_var', 'head_2.mlp.4.num_batches_tracked', 'head_2.mlp.6.weight', 'head_2.mlp.6.bias', 'head_2.last_layer.weight_g', 'head_2.last_layer.weight_v', 'head_3.mlp.0.weight', 'head_3.mlp.0.bias', 'head_3.mlp.1.weight', 'head_3.mlp.1.bias', 'head_3.mlp.1.running_mean', 'head_3.mlp.1.running_var', 'head_3.mlp.1.num_batches_tracked', 'head_3.mlp.3.weight', 'head_3.mlp.3.bias', 'head_3.mlp.4.weight', 'head_3.mlp.4.bias', 'head_3.mlp.4.running_mean', 'head_3.mlp.4.running_var', 'head_3.mlp.4.num_batches_tracked', 'head_3.mlp.6.weight', 'head_3.mlp.6.bias', 'head_3.last_layer.weight_g', 'head_3.last_layer.weight_v', 'head_4.mlp.0.weight', 'head_4.mlp.0.bias', 'head_4.mlp.1.weight', 'head_4.mlp.1.bias', 'head_4.mlp.1.running_mean', 'head_4.mlp.1.running_var', 'head_4.mlp.1.num_batches_tracked', 'head_4.mlp.3.weight', 'head_4.mlp.3.bias', 'head_4.mlp.4.weight', 'head_4.mlp.4.bias', 'head_4.mlp.4.running_mean', 'head_4.mlp.4.running_var', 'head_4.mlp.4.num_batches_tracked', 'head_4.mlp.6.weight', 'head_4.mlp.6.bias', 'head_4.last_layer.weight_g', 'head_4.last_layer.weight_v', 'head_5.mlp.0.weight', 'head_5.mlp.0.bias', 'head_5.mlp.1.weight', 'head_5.mlp.1.bias', 'head_5.mlp.1.running_mean', 'head_5.mlp.1.running_var', 'head_5.mlp.1.num_batches_tracked', 'head_5.mlp.3.weight', 'head_5.mlp.3.bias', 'head_5.mlp.4.weight', 'head_5.mlp.4.bias', 'head_5.mlp.4.running_mean', 'head_5.mlp.4.running_var', 'head_5.mlp.4.num_batches_tracked', 'head_5.mlp.6.weight', 'head_5.mlp.6.bias', 'head_5.last_layer.weight_g', 'head_5.last_layer.weight_v'])"
      ]
     },
     "execution_count": 15,
     "metadata": {},
     "output_type": "execute_result"
    }
   ],
   "source": [
    "a['student'].keys()"
   ]
  },
  {
   "cell_type": "code",
   "execution_count": 5,
   "metadata": {},
   "outputs": [
    {
     "data": {
      "text/plain": [
       "dict_keys(['student', 'teacher', 'optimizer', 'epoch', 'args', 'desd_loss', 'fp16_scaler'])"
      ]
     },
     "execution_count": 5,
     "metadata": {},
     "output_type": "execute_result"
    }
   ],
   "source": [
    "a.keys()"
   ]
  },
  {
   "cell_type": "code",
   "execution_count": 10,
   "metadata": {},
   "outputs": [
    {
     "data": {
      "text/plain": [
       "['head.mlp.0.weight',\n",
       " 'head.mlp.0.bias',\n",
       " 'head.mlp.1.weight',\n",
       " 'head.mlp.1.bias',\n",
       " 'head.mlp.1.running_mean',\n",
       " 'head.mlp.1.running_var',\n",
       " 'head.mlp.1.num_batches_tracked',\n",
       " 'head.mlp.3.weight',\n",
       " 'head.mlp.3.bias',\n",
       " 'head.mlp.4.weight',\n",
       " 'head.mlp.4.bias',\n",
       " 'head.mlp.4.running_mean',\n",
       " 'head.mlp.4.running_var',\n",
       " 'head.mlp.4.num_batches_tracked',\n",
       " 'head.mlp.6.weight',\n",
       " 'head.mlp.6.bias',\n",
       " 'head.last_layer.weight_g',\n",
       " 'head.last_layer.weight_v',\n",
       " 'head_1.mlp.0.weight',\n",
       " 'head_1.mlp.0.bias',\n",
       " 'head_1.mlp.1.weight',\n",
       " 'head_1.mlp.1.bias',\n",
       " 'head_1.mlp.1.running_mean',\n",
       " 'head_1.mlp.1.running_var',\n",
       " 'head_1.mlp.1.num_batches_tracked',\n",
       " 'head_1.mlp.3.weight',\n",
       " 'head_1.mlp.3.bias',\n",
       " 'head_1.mlp.4.weight',\n",
       " 'head_1.mlp.4.bias',\n",
       " 'head_1.mlp.4.running_mean',\n",
       " 'head_1.mlp.4.running_var',\n",
       " 'head_1.mlp.4.num_batches_tracked',\n",
       " 'head_1.mlp.6.weight',\n",
       " 'head_1.mlp.6.bias',\n",
       " 'head_1.last_layer.weight_g',\n",
       " 'head_1.last_layer.weight_v',\n",
       " 'head_2.mlp.0.weight',\n",
       " 'head_2.mlp.0.bias',\n",
       " 'head_2.mlp.1.weight',\n",
       " 'head_2.mlp.1.bias',\n",
       " 'head_2.mlp.1.running_mean',\n",
       " 'head_2.mlp.1.running_var',\n",
       " 'head_2.mlp.1.num_batches_tracked',\n",
       " 'head_2.mlp.3.weight',\n",
       " 'head_2.mlp.3.bias',\n",
       " 'head_2.mlp.4.weight',\n",
       " 'head_2.mlp.4.bias',\n",
       " 'head_2.mlp.4.running_mean',\n",
       " 'head_2.mlp.4.running_var',\n",
       " 'head_2.mlp.4.num_batches_tracked',\n",
       " 'head_2.mlp.6.weight',\n",
       " 'head_2.mlp.6.bias',\n",
       " 'head_2.last_layer.weight_g',\n",
       " 'head_2.last_layer.weight_v',\n",
       " 'head_3.mlp.0.weight',\n",
       " 'head_3.mlp.0.bias',\n",
       " 'head_3.mlp.1.weight',\n",
       " 'head_3.mlp.1.bias',\n",
       " 'head_3.mlp.1.running_mean',\n",
       " 'head_3.mlp.1.running_var',\n",
       " 'head_3.mlp.1.num_batches_tracked',\n",
       " 'head_3.mlp.3.weight',\n",
       " 'head_3.mlp.3.bias',\n",
       " 'head_3.mlp.4.weight',\n",
       " 'head_3.mlp.4.bias',\n",
       " 'head_3.mlp.4.running_mean',\n",
       " 'head_3.mlp.4.running_var',\n",
       " 'head_3.mlp.4.num_batches_tracked',\n",
       " 'head_3.mlp.6.weight',\n",
       " 'head_3.mlp.6.bias',\n",
       " 'head_3.last_layer.weight_g',\n",
       " 'head_3.last_layer.weight_v',\n",
       " 'head_4.mlp.0.weight',\n",
       " 'head_4.mlp.0.bias',\n",
       " 'head_4.mlp.1.weight',\n",
       " 'head_4.mlp.1.bias',\n",
       " 'head_4.mlp.1.running_mean',\n",
       " 'head_4.mlp.1.running_var',\n",
       " 'head_4.mlp.1.num_batches_tracked',\n",
       " 'head_4.mlp.3.weight',\n",
       " 'head_4.mlp.3.bias',\n",
       " 'head_4.mlp.4.weight',\n",
       " 'head_4.mlp.4.bias',\n",
       " 'head_4.mlp.4.running_mean',\n",
       " 'head_4.mlp.4.running_var',\n",
       " 'head_4.mlp.4.num_batches_tracked',\n",
       " 'head_4.mlp.6.weight',\n",
       " 'head_4.mlp.6.bias',\n",
       " 'head_4.last_layer.weight_g',\n",
       " 'head_4.last_layer.weight_v',\n",
       " 'head_5.mlp.0.weight',\n",
       " 'head_5.mlp.0.bias',\n",
       " 'head_5.mlp.1.weight',\n",
       " 'head_5.mlp.1.bias',\n",
       " 'head_5.mlp.1.running_mean',\n",
       " 'head_5.mlp.1.running_var',\n",
       " 'head_5.mlp.1.num_batches_tracked',\n",
       " 'head_5.mlp.3.weight',\n",
       " 'head_5.mlp.3.bias',\n",
       " 'head_5.mlp.4.weight',\n",
       " 'head_5.mlp.4.bias',\n",
       " 'head_5.mlp.4.running_mean',\n",
       " 'head_5.mlp.4.running_var',\n",
       " 'head_5.mlp.4.num_batches_tracked',\n",
       " 'head_5.mlp.6.weight',\n",
       " 'head_5.mlp.6.bias',\n",
       " 'head_5.last_layer.weight_g',\n",
       " 'head_5.last_layer.weight_v']"
      ]
     },
     "execution_count": 10,
     "metadata": {},
     "output_type": "execute_result"
    }
   ],
   "source": [
    "b  = torch.load('/home/jseia/Desktop/thesis/experiments/non_tbi/003/checkpoint.pth')\n",
    "[i for i in list(b['student'].keys()) if 'backbone' not in i]"
   ]
  }
 ],
 "metadata": {
  "kernelspec": {
   "display_name": "Python 3",
   "language": "python",
   "name": "python3"
  },
  "language_info": {
   "codemirror_mode": {
    "name": "ipython",
    "version": 3
   },
   "file_extension": ".py",
   "mimetype": "text/x-python",
   "name": "python",
   "nbconvert_exporter": "python",
   "pygments_lexer": "ipython3",
   "version": "3.10.9"
  },
  "orig_nbformat": 4
 },
 "nbformat": 4,
 "nbformat_minor": 2
}
