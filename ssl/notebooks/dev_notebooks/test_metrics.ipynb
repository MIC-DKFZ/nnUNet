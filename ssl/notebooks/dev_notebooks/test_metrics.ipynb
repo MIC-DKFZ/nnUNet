{
 "cells": [
  {
   "cell_type": "code",
   "execution_count": 2,
   "metadata": {},
   "outputs": [
    {
     "name": "stdout",
     "output_type": "stream",
     "text": [
      "4276\n",
      "1191\n"
     ]
    }
   ],
   "source": [
    "import json\n",
    "from pathlib import Path\n",
    "\n",
    "patches_path = Path('/home/jseia/Desktop/thesis/code/nnUNet_ais/nnunetv2/preprocessed/Dataset026_AIS/nnUNetPlansSSL_3d_fullres_ssl')\n",
    "patches = list(patches_path.iterdir())\n",
    "with open('/home/jseia/Desktop/thesis/code/nnUNet_ais/nnunetv2/preprocessed/Dataset026_AIS/splits_final.json', 'r') as file:\n",
    "    partitions = json.load(file)\n",
    "\n",
    "print(len([i for i in patches if i.name.split('_')[0] in partitions[0]['train']]))\n",
    "print(len([i for i in patches if i.name.split('_')[0] in partitions[0]['val']]))"
   ]
  },
  {
   "cell_type": "code",
   "execution_count": 6,
   "metadata": {},
   "outputs": [
    {
     "data": {
      "text/plain": [
       "4480"
      ]
     },
     "execution_count": 6,
     "metadata": {},
     "output_type": "execute_result"
    }
   ],
   "source": [
    "64*70"
   ]
  },
  {
   "cell_type": "code",
   "execution_count": 3,
   "metadata": {},
   "outputs": [
    {
     "name": "stdout",
     "output_type": "stream",
     "text": [
      "914\n",
      "258\n",
      "\n",
      "910\n",
      "262\n",
      "\n",
      "910\n",
      "262\n",
      "\n",
      "910\n",
      "262\n",
      "\n",
      "910\n",
      "262\n",
      "\n",
      "\n",
      "\n",
      "426\n",
      "119\n",
      "\n",
      "422\n",
      "123\n",
      "\n",
      "422\n",
      "123\n",
      "\n",
      "422\n",
      "123\n",
      "\n",
      "422\n",
      "123\n",
      "\n",
      "\n",
      "\n",
      "488\n",
      "139\n",
      "\n",
      "488\n",
      "139\n",
      "\n",
      "488\n",
      "139\n",
      "\n",
      "488\n",
      "139\n",
      "\n",
      "488\n",
      "139\n",
      "\n",
      "\n",
      "\n"
     ]
    }
   ],
   "source": [
    "import json\n",
    "from copy import deepcopy\n",
    "import pandas as pd\n",
    "with open('/home/jseia/Desktop/thesis/code/nnUNet_ais/nnunetv2/preprocessed/Dataset044_AIS/splits_final.json', 'r') as file:\n",
    "    splits = json.load(file)\n",
    "with open('/home/jseia/Desktop/thesis/code/nnUNet_ais/nnunetv2/preprocessed/Dataset044_AIS/splits_final_all_ncct.json', 'w') as file:\n",
    "    json.dump(splits, file, indent=4)\n",
    "\n",
    "df = pd.read_csv('/home/jseia/Desktop/thesis/code/stroke-seg/data/dataset.csv', index_col=0)\n",
    "\n",
    "datasets_selection = ['tum', 'aisd', 'apis']\n",
    "\n",
    "new_splits = deepcopy(splits)\n",
    "for i in range(len(splits)):\n",
    "    print(len(splits[i]['train']))\n",
    "    print(len(splits[i]['val']))\n",
    "    print()\n",
    "\n",
    "print()\n",
    "print()\n",
    "for i in range(len(splits)):\n",
    "    for p in ['train', 'val']:\n",
    "        new_split = []\n",
    "        for j in splits[i][p]:\n",
    "            if df.loc[df.subject == j, 'dataset_name'].values[0] in datasets_selection:\n",
    "                new_split.append(j)\n",
    "        new_splits[i][p] = new_split\n",
    "        print(len(new_splits[i][p]))\n",
    "    print()\n",
    "\n",
    "print()\n",
    "print()\n",
    "with open('/home/jseia/Desktop/thesis/code/nnUNet_ais/nnunetv2/preprocessed/Dataset044_AIS/splits_final_non_tbi.json', 'w') as file:\n",
    "    json.dump(new_splits, file, indent=4)\n",
    "\n",
    "datasets_selection = ['tbi']\n",
    "new_splits = deepcopy(splits)\n",
    "for i in range(len(splits)):\n",
    "    for p in ['train', 'val']:\n",
    "        new_split = []\n",
    "        for j in splits[i][p]:\n",
    "            if df.loc[df.subject == j, 'dataset_name'].values[0] in datasets_selection:\n",
    "                new_split.append(j)\n",
    "        new_splits[i][p] = new_split\n",
    "        print(len(new_splits[i][p]))\n",
    "    print()\n",
    "print()\n",
    "print()\n",
    "with open('/home/jseia/Desktop/thesis/code/nnUNet_ais/nnunetv2/preprocessed/Dataset044_AIS/splits_final_tbi.json', 'w') as file:\n",
    "    json.dump(new_splits, file, indent=4)\n"
   ]
  }
 ],
 "metadata": {
  "kernelspec": {
   "display_name": "Python 3",
   "language": "python",
   "name": "python3"
  },
  "language_info": {
   "codemirror_mode": {
    "name": "ipython",
    "version": 3
   },
   "file_extension": ".py",
   "mimetype": "text/x-python",
   "name": "python",
   "nbconvert_exporter": "python",
   "pygments_lexer": "ipython3",
   "version": "3.10.9"
  },
  "orig_nbformat": 4
 },
 "nbformat": 4,
 "nbformat_minor": 2
}
