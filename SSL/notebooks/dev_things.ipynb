{
 "cells": [
  {
   "cell_type": "code",
   "execution_count": 1,
   "metadata": {},
   "outputs": [
    {
     "data": {
      "text/plain": [
       "(2, 5, 3, 4)"
      ]
     },
     "execution_count": 1,
     "metadata": {},
     "output_type": "execute_result"
    }
   ],
   "source": [
    "import numpy as np\n",
    "def b():\n",
    "    a = [2,3,4,5]\n",
    "    a = np.asarray(a)\n",
    "    a = list(a)\n",
    "    return tuple([a[0], a[-1]] + a[1:-1])\n",
    "b()"
   ]
  },
  {
   "cell_type": "code",
   "execution_count": 2,
   "metadata": {},
   "outputs": [],
   "source": [
    "import numpy as np\n",
    "import pickle\n",
    "from pathlib import Path\n",
    "\n",
    "from pathlib import Path\n",
    "repo_root = Path().resolve().parent\n",
    "# print(repo_root)\n",
    "import sys ; sys.path.insert(0, str(repo_root))\n",
    "import os\n",
    "datapath = Path('/home/jseia/Desktop/thesis/data/')\n",
    "base_path = Path('/home/jseia/Desktop/thesis/code/nnUNet/nnunetv2')\n",
    "os.environ['nnUNet_raw'] = str(base_path/'nnUNet_raw')\n",
    "os.environ['nnUNet_preprocessed'] = str(base_path/'preprocessed')\n",
    "os.environ['nnUNet_results'] = str(base_path/'nnUNet_trained_models')\n",
    "\n",
    "import argparse\n",
    "import datetime\n",
    "import json\n",
    "import math\n",
    "\n",
    "import sys\n",
    "import shutil\n",
    "import time\n",
    "import torch\n",
    "\n",
    "import numpy as np\n",
    "import torch.nn as nn\n",
    "import torch.backends.cudnn as cudnn\n",
    "import torch.nn.functional as F\n",
    "\n",
    "from pathlib import Path\n",
    "from typing import Union, Optional\n",
    "\n",
    "import SSL.desd_utils as utils\n",
    "from SSL.models import DINOHead\n",
    "from SSL.data_loader_ssl import Dataset3D\n",
    "from nnunetv2.run.run_training import get_trainer_from_args, maybe_load_checkpoint\n",
    "from torch.backends import cudnn\n",
    "\n",
    "def run_training_our(dataset_name_or_id: Union[str, int],\n",
    "                 configuration: str, fold: Union[int, str],\n",
    "                 trainer_class_name: str = 'nnUNetTrainer',\n",
    "                 plans_identifier: str = 'nnUNetPlans',\n",
    "                 pretrained_weights: Optional[str] = None,\n",
    "                 use_compressed_data: bool = False,\n",
    "                 export_validation_probabilities: bool = False,\n",
    "                 continue_training: bool = False,\n",
    "                 only_run_validation: bool = False,\n",
    "                 disable_checkpointing: bool = False,\n",
    "                 device: torch.device = torch.device('cuda')):\n",
    "    if isinstance(fold, str):\n",
    "        if fold != 'all':\n",
    "            try:\n",
    "                fold = int(fold)\n",
    "            except ValueError as e:\n",
    "                print(f'Unable to convert given value for fold to int: {fold}. fold must bei either \"all\" or an integer!')\n",
    "                raise e\n",
    "\n",
    "    nnunet_trainer = get_trainer_from_args(dataset_name_or_id, configuration, fold, trainer_class_name,\n",
    "                                            plans_identifier, use_compressed_data, device=device)\n",
    "\n",
    "    if disable_checkpointing:\n",
    "        nnunet_trainer.disable_checkpointing = disable_checkpointing\n",
    "\n",
    "    assert not (continue_training and only_run_validation), f'Cannot set --c and --val flag at the same time. Dummy.'\n",
    "\n",
    "    maybe_load_checkpoint(nnunet_trainer, continue_training, only_run_validation, pretrained_weights)\n",
    "\n",
    "    if torch.cuda.is_available():\n",
    "        cudnn.deterministic = False\n",
    "        cudnn.benchmark = True\n",
    "\n",
    "    nnunet_trainer.initialize()\n",
    "    return nnunet_trainer.network"
   ]
  },
  {
   "cell_type": "code",
   "execution_count": 7,
   "metadata": {},
   "outputs": [],
   "source": [
    "from torchsummary import summary\n",
    "class res3d(nn.Module):\n",
    "    def __init__(self,teacher=False):\n",
    "        super(res3d, self).__init__()\n",
    "\n",
    "        self.teacher = teacher\n",
    "        self.net = run_training_our(\n",
    "            'Dataset002_AIS',\n",
    "            '3d_fullres',\n",
    "            0,\n",
    "            'nnUNetTrainer',\n",
    "            'nnUNetPlans',\n",
    "            None,\n",
    "            False,\n",
    "            False,\n",
    "            False,\n",
    "            False,\n",
    "            False,\n",
    "            torch.device('cpu')\n",
    "        )\n",
    "        # print(summary(self.net, (1,96,160,160)), 2, 'cpu')\n",
    "        self.net = self.net.encoder\n",
    "        model = self.net.stages\n",
    "        n_mods = model.named_modules()\n",
    "        self.n_stages = len([\n",
    "            name for name, _ in n_mods if ('.' not in name) and (name != '')])\n",
    "\n",
    "        self.gap = nn.AdaptiveAvgPool3d((1, 1, 1))\n",
    "\n",
    "    def forward(self, x):\n",
    "        # first layer/block\n",
    "        x = self.net(x)\n",
    "        out = []\n",
    "        for i in range(self.n_stages):\n",
    "            print(x[i].size())\n",
    "            out.append(self.gap(x[i]).flatten(1))\n",
    "        if self.teacher:\n",
    "            return out[-1]\n",
    "        return out"
   ]
  },
  {
   "cell_type": "code",
   "execution_count": 8,
   "metadata": {},
   "outputs": [
    {
     "name": "stdout",
     "output_type": "stream",
     "text": [
      "Using device: cpu\n",
      "\n",
      "#######################################################################\n",
      "Please cite the following paper when using nnU-Net:\n",
      "Isensee, F., Jaeger, P. F., Kohl, S. A., Petersen, J., & Maier-Hein, K. H. (2021). nnU-Net: a self-configuring method for deep learning-based biomedical image segmentation. Nature methods, 18(2), 203-211.\n",
      "#######################################################################\n",
      "\n",
      "Using device: cpu\n",
      "\n",
      "#######################################################################\n",
      "Please cite the following paper when using nnU-Net:\n",
      "Isensee, F., Jaeger, P. F., Kohl, S. A., Petersen, J., & Maier-Hein, K. H. (2021). nnU-Net: a self-configuring method for deep learning-based biomedical image segmentation. Nature methods, 18(2), 203-211.\n",
      "#######################################################################\n",
      "\n"
     ]
    }
   ],
   "source": [
    "student = res3d(False)\n",
    "teacher = res3d(True)"
   ]
  },
  {
   "cell_type": "code",
   "execution_count": 5,
   "metadata": {},
   "outputs": [],
   "source": [
    "# import pickle\n",
    "\n",
    "# with open('/home/jseia/Desktop/thesis/code/nnUNet_ais/nnunetv2/preprocessed/nnUNetPlans_3d_fullres/strokeperf0001.pkl', 'rb') as file:\n",
    "#     a = pickle.load(file)\n",
    "\n",
    "# a"
   ]
  },
  {
   "cell_type": "code",
   "execution_count": 11,
   "metadata": {},
   "outputs": [
    {
     "name": "stdout",
     "output_type": "stream",
     "text": [
      "torch.Size([2, 32, 96, 160, 160])\n",
      "torch.Size([2, 64, 48, 80, 80])\n",
      "torch.Size([2, 128, 24, 40, 40])\n",
      "torch.Size([2, 256, 12, 20, 20])\n",
      "torch.Size([2, 320, 6, 10, 10])\n",
      "torch.Size([2, 320, 6, 5, 5])\n",
      "torch.Size([2, 32])\n",
      "torch.Size([2, 64])\n",
      "torch.Size([2, 128])\n",
      "torch.Size([2, 256])\n",
      "torch.Size([2, 320])\n",
      "torch.Size([2, 320])\n"
     ]
    }
   ],
   "source": [
    "from torchsummary import summary\n",
    "# model = student.net.stages\n",
    "random_sample = torch.rand([2,1,96,160,160])\n",
    "random_return = student(random_sample)\n",
    "for i in range(len(random_return)):\n",
    "    print(random_return[i].size())\n",
    "# for name, module in model.named_modules():\n",
    "    "
   ]
  }
 ],
 "metadata": {
  "kernelspec": {
   "display_name": "Python 3",
   "language": "python",
   "name": "python3"
  },
  "language_info": {
   "codemirror_mode": {
    "name": "ipython",
    "version": 3
   },
   "file_extension": ".py",
   "mimetype": "text/x-python",
   "name": "python",
   "nbconvert_exporter": "python",
   "pygments_lexer": "ipython3",
   "version": "3.10.9"
  },
  "orig_nbformat": 4
 },
 "nbformat": 4,
 "nbformat_minor": 2
}
