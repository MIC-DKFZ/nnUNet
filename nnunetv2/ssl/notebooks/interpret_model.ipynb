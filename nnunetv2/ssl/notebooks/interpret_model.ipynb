{
 "cells": [
  {
   "cell_type": "code",
   "execution_count": 1,
   "metadata": {},
   "outputs": [
    {
     "name": "stderr",
     "output_type": "stream",
     "text": [
      "WARNING:root:Be aware that since since ncct-tilt the image provided in ncct field will be the ncct-tilt. GT masks will also be adjusted.\n"
     ]
    }
   ],
   "source": [
    "import os\n",
    "import sys\n",
    "\n",
    "import captum.attr as attr\n",
    "import matplotlib.pyplot as plt\n",
    "import pandas as pd\n",
    "import seaborn as sns\n",
    "\n",
    "from pathlib import Path\n",
    "from tqdm import tqdm\n",
    "from typing import List, Dict\n",
    "\n",
    "\n",
    "datapath = Path('/home/jseia/Desktop/thesis/data/')\n",
    "csv_path = Path('/home/jseia/Desktop/thesis/code/stroke-seg/data/dataset.csv')\n",
    "base_path = Path('/home/jseia/Desktop/thesis/code/nnUNet_ais/nnunetv2')\n",
    "os.environ['nnUNet_raw'] = str(base_path/'nnUNet_raw')\n",
    "os.environ['nnUNet_preprocessed'] = str(base_path/'preprocessed')\n",
    "os.environ['nnUNet_results'] = str(base_path/'nnUNet_trained_models')\n",
    "\n",
    "from ssl.model_interpreter import EmpeddingProjector, DimReductor, AttrGenerator\n",
    "import ssl.plots as ssl_plots\n",
    "\n",
    "sys.path.insert(0, '/home/jseia/Desktop/thesis/code/stroke-seg')\n",
    "from dataset.dataset import StrokeDataset\n",
    "sys.path.remove('/home/jseia/Desktop/thesis/code/stroke-seg')\n",
    "\n",
    "dataset = StrokeDataset(\n",
    "    datapath=datapath,\n",
    "    datasets=['apis', 'aisd', 'tum', 'tbi'], \n",
    "    data_csv_path=csv_path,\n",
    "    cases_to_exclude=[],\n",
    "    pathology=['ais', 'normal'],\n",
    "    modalities=['ncct', 'ncct-tilt'],\n",
    "    partitions=['validation'],\n",
    "    standard=['gold', 'silver', '-'],\n",
    "    filter_discard=True\n",
    ")\n",
    "\n",
    "base_cfg_path = Path('/home/jseia/Desktop/thesis/code/nnUNet_ais/DeSD/cfg_files/ssl_pretrain/')\n",
    "base_experiments_path = Path('/home/jseia/Desktop/thesis/experiments/')\n",
    "\n",
    "\n",
    "def get_saliency_maps(exps_cfgs: List[Dict], dataset, force: bool = True):\n",
    "    for exp_cfg in exps_cfgs:\n",
    "        cfg_filename = f'config_{exp_cfg[\"data\"]}_{exp_cfg[\"exp\"]}.yml'\n",
    "        exp_path = base_experiments_path / exp_cfg['data'] / exp_cfg[\"exp\"]\n",
    "        out_path = exp_path / 'attribution'\n",
    "        if not out_path.exists() or force:\n",
    "            saliency_gen = AttrGenerator(\n",
    "                cfg_file_path=base_cfg_path/exp_cfg['data']/cfg_filename,\n",
    "                chckpt_file_path=exp_path/'checkpoint.pth',\n",
    "                device='cuda', method=attr.IntegratedGradients,\n",
    "                layer=False, suffix='ig')\n",
    "            subjects = dataset.df.loc[dataset.df.dataset_name != 'tum', 'subject'].unique().tolist()\n",
    "            saliency_gen(subjects, save_saliency=True, out_path=out_path)\n",
    "\n",
    "\n",
    "def get_projections(exps_cfgs: List[Dict], dataset, force: bool = True):\n",
    "    for exp_cfg in tqdm(exps_cfgs):\n",
    "        cfg_filename = f'config_{exp_cfg[\"data\"]}_{exp_cfg[\"exp\"]}.yml'\n",
    "        exp_path = base_experiments_path / exp_cfg['data'] / exp_cfg[\"exp\"]\n",
    "        csv_path = exp_path/'complete_vol_embeddings.csv'\n",
    "        if not csv_path.exists() or force:\n",
    "            embedding_projector = EmpeddingProjector(\n",
    "                cfg_file_path=base_cfg_path/exp_cfg['data']/cfg_filename,\n",
    "                chckpt_file_path=exp_path/'checkpoint.pth',\n",
    "                device='cuda', batch_size=1\n",
    "            )\n",
    "            embeddings = embedding_projector(dataset=dataset)\n",
    "            embeddings['dataset'] = exp_cfg[\"data\"]\n",
    "            embeddings['context'] = exp_cfg[\"context\"]\n",
    "            embeddings.to_csv(csv_path)\n",
    "        else:\n",
    "            embeddings = pd.read_csv(csv_path, index_col=0)\n",
    "\n",
    "        projections_csv_path = exp_path/'complete_vol_reductions.csv'\n",
    "        if not projections_csv_path.exists() or force:\n",
    "            projections = pd.DataFrame()\n",
    "            for method in ['pca', 'tsne', 'umap']:\n",
    "                method_kwargs = {'n_components': 2, 'random_state': 0}\n",
    "                if method == 'tsne':\n",
    "                    method_kwargs.update({'learning_rate': 'auto', 'init': 'pca'})\n",
    "                reductor = DimReductor(method=method, method_kwargs=method_kwargs)\n",
    "                method_projections = reductor(embeddings)\n",
    "                meta_cols = [col for col in method_projections.columns if 'feat' not in col]\n",
    "                projections[meta_cols] = method_projections[meta_cols].values\n",
    "                projections[[f'{method}0', f'{method}1']] = method_projections[['feat0', 'feat1']].values\n",
    "            projections['dataset'] = exp_cfg[\"data\"]\n",
    "            projections['context'] = exp_cfg[\"context\"]\n",
    "            projections.to_csv(projections_csv_path)\n",
    "        else:\n",
    "            projections = pd.read_csv(projections_csv_path, index_col=0)"
   ]
  },
  {
   "cell_type": "code",
   "execution_count": 2,
   "metadata": {},
   "outputs": [
    {
     "name": "stdout",
     "output_type": "stream",
     "text": [
      "Using device: cuda:0\n",
      "\n",
      "#######################################################################\n",
      "Please cite the following paper when using nnU-Net:\n",
      "Isensee, F., Jaeger, P. F., Kohl, S. A., Petersen, J., & Maier-Hein, K. H. (2021). nnU-Net: a self-configuring method for deep learning-based biomedical image segmentation. Nature methods, 18(2), 203-211.\n",
      "#######################################################################\n",
      "\n",
      "Using pretrained enconder: True\n",
      "When initializing - The model has 100.0% of trainable parameters \n"
     ]
    },
    {
     "name": "stderr",
     "output_type": "stream",
     "text": [
      "100%|██████████| 228/228 [48:36<00:00, 12.79s/it]\n"
     ]
    },
    {
     "name": "stdout",
     "output_type": "stream",
     "text": [
      "Using device: cuda:0\n",
      "\n",
      "#######################################################################\n",
      "Please cite the following paper when using nnU-Net:\n",
      "Isensee, F., Jaeger, P. F., Kohl, S. A., Petersen, J., & Maier-Hein, K. H. (2021). nnU-Net: a self-configuring method for deep learning-based biomedical image segmentation. Nature methods, 18(2), 203-211.\n",
      "#######################################################################\n",
      "\n",
      "Using pretrained enconder: True\n",
      "When initializing - The model has 100.0% of trainable parameters \n"
     ]
    },
    {
     "name": "stderr",
     "output_type": "stream",
     "text": [
      "100%|██████████| 228/228 [45:03<00:00, 11.86s/it]\n"
     ]
    },
    {
     "name": "stdout",
     "output_type": "stream",
     "text": [
      "Using device: cuda:0\n",
      "\n",
      "#######################################################################\n",
      "Please cite the following paper when using nnU-Net:\n",
      "Isensee, F., Jaeger, P. F., Kohl, S. A., Petersen, J., & Maier-Hein, K. H. (2021). nnU-Net: a self-configuring method for deep learning-based biomedical image segmentation. Nature methods, 18(2), 203-211.\n",
      "#######################################################################\n",
      "\n",
      "Using pretrained enconder: True\n",
      "When initializing - The model has 100.0% of trainable parameters \n"
     ]
    },
    {
     "name": "stderr",
     "output_type": "stream",
     "text": [
      "100%|██████████| 228/228 [56:15<00:00, 14.80s/it]\n"
     ]
    },
    {
     "name": "stdout",
     "output_type": "stream",
     "text": [
      "Using device: cuda:0\n",
      "\n",
      "#######################################################################\n",
      "Please cite the following paper when using nnU-Net:\n",
      "Isensee, F., Jaeger, P. F., Kohl, S. A., Petersen, J., & Maier-Hein, K. H. (2021). nnU-Net: a self-configuring method for deep learning-based biomedical image segmentation. Nature methods, 18(2), 203-211.\n",
      "#######################################################################\n",
      "\n",
      "Using pretrained enconder: True\n",
      "When initializing - The model has 100.0% of trainable parameters \n"
     ]
    },
    {
     "name": "stderr",
     "output_type": "stream",
     "text": [
      "100%|██████████| 228/228 [46:42<00:00, 12.29s/it]\n"
     ]
    },
    {
     "name": "stdout",
     "output_type": "stream",
     "text": [
      "Using device: cuda:0\n",
      "\n",
      "#######################################################################\n",
      "Please cite the following paper when using nnU-Net:\n",
      "Isensee, F., Jaeger, P. F., Kohl, S. A., Petersen, J., & Maier-Hein, K. H. (2021). nnU-Net: a self-configuring method for deep learning-based biomedical image segmentation. Nature methods, 18(2), 203-211.\n",
      "#######################################################################\n",
      "\n",
      "Using pretrained enconder: True\n",
      "When initializing - The model has 100.0% of trainable parameters \n"
     ]
    },
    {
     "name": "stderr",
     "output_type": "stream",
     "text": [
      "100%|██████████| 228/228 [44:56<00:00, 11.82s/it]\n"
     ]
    },
    {
     "name": "stdout",
     "output_type": "stream",
     "text": [
      "Using device: cuda:0\n",
      "\n",
      "#######################################################################\n",
      "Please cite the following paper when using nnU-Net:\n",
      "Isensee, F., Jaeger, P. F., Kohl, S. A., Petersen, J., & Maier-Hein, K. H. (2021). nnU-Net: a self-configuring method for deep learning-based biomedical image segmentation. Nature methods, 18(2), 203-211.\n",
      "#######################################################################\n",
      "\n",
      "Using pretrained enconder: True\n",
      "When initializing - The model has 100.0% of trainable parameters \n"
     ]
    },
    {
     "name": "stderr",
     "output_type": "stream",
     "text": [
      "100%|██████████| 228/228 [53:35<00:00, 14.10s/it]\n"
     ]
    },
    {
     "name": "stdout",
     "output_type": "stream",
     "text": [
      "Using device: cuda:0\n",
      "\n",
      "#######################################################################\n",
      "Please cite the following paper when using nnU-Net:\n",
      "Isensee, F., Jaeger, P. F., Kohl, S. A., Petersen, J., & Maier-Hein, K. H. (2021). nnU-Net: a self-configuring method for deep learning-based biomedical image segmentation. Nature methods, 18(2), 203-211.\n",
      "#######################################################################\n",
      "\n",
      "Using pretrained enconder: True\n",
      "When initializing - The model has 100.0% of trainable parameters \n"
     ]
    },
    {
     "name": "stderr",
     "output_type": "stream",
     "text": [
      "100%|██████████| 228/228 [1:00:04<00:00, 15.81s/it]\n"
     ]
    },
    {
     "name": "stdout",
     "output_type": "stream",
     "text": [
      "Using device: cuda:0\n",
      "\n",
      "#######################################################################\n",
      "Please cite the following paper when using nnU-Net:\n",
      "Isensee, F., Jaeger, P. F., Kohl, S. A., Petersen, J., & Maier-Hein, K. H. (2021). nnU-Net: a self-configuring method for deep learning-based biomedical image segmentation. Nature methods, 18(2), 203-211.\n",
      "#######################################################################\n",
      "\n",
      "Using pretrained enconder: True\n",
      "When initializing - The model has 100.0% of trainable parameters \n"
     ]
    },
    {
     "name": "stderr",
     "output_type": "stream",
     "text": [
      "  6%|▌         | 13/228 [03:32<1:00:08, 16.78s/it]"
     ]
    }
   ],
   "source": [
    "exps_cfgs = [\n",
    "    # {'data': 'nnunet_encoder', 'exp': 'tum', 'context': '-'},\n",
    "    # {'data': 'nnunet_encoder', 'exp': 'non_tbi', 'context': '-'},\n",
    "    {'data': 'all_ncct', 'exp': '001', 'context': '-'}, # No sym \n",
    "    {'data': 'all_ncct', 'exp': '004', 'context': 'sym'}, # Sym\n",
    "    {'data': 'all_ncct', 'exp': '002', 'context': 'diff'}, # Diff\n",
    "    {'data': 'non_tbi', 'exp': '001', 'context': '-'}, # No sym\n",
    "    {'data': 'non_tbi', 'exp': '003', 'context': 'sym'}, # Sym\n",
    "    {'data': 'non_tbi', 'exp': '004', 'context': 'diff'}, # Diff\n",
    "    {'data': 'tbi', 'exp': '000', 'context': '-'}, # No sym\n",
    "    {'data': 'tbi', 'exp': '001', 'context': 'sym'}, # Sym\n",
    "    {'data': 'tbi', 'exp': '002', 'context': 'diff'}, # Diff\n",
    "]   \n",
    "get_saliency_maps(exps_cfgs, dataset)"
   ]
  },
  {
   "cell_type": "code",
   "execution_count": 3,
   "metadata": {},
   "outputs": [],
   "source": [
    "# exps_cfgs = [\n",
    "#     {'data': 'nnunet_encoder', 'exp': 'tum', 'context': '-'}, #FS TUM\n",
    "#     {'data': 'nnunet_encoder', 'exp': 'non_tbi', 'context': '-'}, #FS NON-TBI\n",
    "#     {'data': 'all_ncct', 'exp': '001', 'context': '-'}, # No sym \n",
    "#     {'data': 'all_ncct', 'exp': '004', 'context': 'sym'}, # Sym\n",
    "#     {'data': 'all_ncct', 'exp': '002', 'context': 'diff'}, # Diff\n",
    "#     {'data': 'non_tbi', 'exp': '001', 'context': '-'}, # No sym\n",
    "#     {'data': 'non_tbi', 'exp': '003', 'context': 'sym'}, # Sym\n",
    "#     {'data': 'non_tbi', 'exp': '004', 'context': 'diff'}, # Diff\n",
    "#     {'data': 'tbi', 'exp': '000', 'context': '-'}, # No sym\n",
    "#     {'data': 'tbi', 'exp': '001', 'context': 'sym'}, # Sym\n",
    "#     {'data': 'tbi', 'exp': '002', 'context': 'diff'}, # Diff\n",
    "# ]\n",
    "\n",
    "# get_projections(exps_cfgs, dataset)"
   ]
  },
  {
   "cell_type": "code",
   "execution_count": 4,
   "metadata": {},
   "outputs": [],
   "source": [
    "# %matplotlib inline\n",
    "# exps_cfgs = [\n",
    "#     {'data': 'all_ncct', 'exp': '001', 'context': '-'},\n",
    "#     {'data': 'all_ncct', 'exp': '004', 'context': 'sym'},\n",
    "#     {'data': 'all_ncct', 'exp': '002', 'context': 'diff'},\n",
    "#     {'data': 'non_tbi', 'exp': '001', 'context': '-'},\n",
    "#     {'data': 'non_tbi', 'exp': '003', 'context': 'sym'},\n",
    "#     {'data': 'non_tbi', 'exp': '004', 'context': 'diff'},\n",
    "#     {'data': 'tbi', 'exp': '000', 'context': '-'},\n",
    "#     {'data': 'tbi', 'exp': '001', 'context': 'sym'},\n",
    "#     {'data': 'tbi', 'exp': '002', 'context': 'diff'},\n",
    "# ]\n",
    "\n",
    "# preproc = False\n",
    "# lims = [-5, 4] if preproc else [0, 80]\n",
    "# scatter_examples_full(exps_cfgs, preproc, lims)"
   ]
  },
  {
   "cell_type": "code",
   "execution_count": 5,
   "metadata": {},
   "outputs": [
    {
     "ename": "RuntimeError",
     "evalue": "Exception thrown in SimpleITK ReadImage: /src/SimpleElastix/Code/IO/src/sitkImageReaderBase.cxx:99:\nsitk::ERROR: The file \"/home/jseia/Desktop/thesis/experiments/all_ncct/004/attribution/3Xtd225_saliency_ig.nii.gz\" does not exist.",
     "output_type": "error",
     "traceback": [
      "\u001b[0;31m---------------------------------------------------------------------------\u001b[0m",
      "\u001b[0;31mRuntimeError\u001b[0m                              Traceback (most recent call last)",
      "\u001b[0;32m/tmp/ipykernel_2586174/1276713680.py\u001b[0m in \u001b[0;36m<module>\u001b[0;34m\u001b[0m\n\u001b[1;32m     27\u001b[0m \u001b[0mpreproc\u001b[0m \u001b[0;34m=\u001b[0m \u001b[0;32mFalse\u001b[0m\u001b[0;34m\u001b[0m\u001b[0;34m\u001b[0m\u001b[0m\n\u001b[1;32m     28\u001b[0m \u001b[0mlims\u001b[0m \u001b[0;34m=\u001b[0m \u001b[0;34m[\u001b[0m\u001b[0;34m-\u001b[0m\u001b[0;36m5\u001b[0m\u001b[0;34m,\u001b[0m \u001b[0;36m4\u001b[0m\u001b[0;34m]\u001b[0m \u001b[0;32mif\u001b[0m \u001b[0mpreproc\u001b[0m \u001b[0;32melse\u001b[0m \u001b[0;34m[\u001b[0m\u001b[0;36m0\u001b[0m\u001b[0;34m,\u001b[0m \u001b[0;36m80\u001b[0m\u001b[0;34m]\u001b[0m\u001b[0;34m\u001b[0m\u001b[0;34m\u001b[0m\u001b[0m\n\u001b[0;32m---> 29\u001b[0;31m desd_plots.scatter_examples_method(\n\u001b[0m\u001b[1;32m     30\u001b[0m     base_cfg_path, base_experiments_path, exps_cfgs, preproc, lims, 'tsne', plot_type=1, slice_criteria='middle')\n",
      "\u001b[0;32m~/Desktop/thesis/code/nnUNet_ais/DeSD/plots.py\u001b[0m in \u001b[0;36mscatter_examples_method\u001b[0;34m(base_cfg_path, base_experiments_path, exps_cfgs, preproc, lims, method, plot_type, slice_criteria)\u001b[0m\n\u001b[1;32m    263\u001b[0m         \u001b[0;32mif\u001b[0m \u001b[0mplot_images\u001b[0m\u001b[0;34m:\u001b[0m\u001b[0;34m\u001b[0m\u001b[0;34m\u001b[0m\u001b[0m\n\u001b[1;32m    264\u001b[0m             \u001b[0;31m# PLOT EXAMPLES\u001b[0m\u001b[0;34m\u001b[0m\u001b[0;34m\u001b[0m\u001b[0m\n\u001b[0;32m--> 265\u001b[0;31m             ncct, diff, gt, attr, attr_diff = visualize_neighbours(base_experiments_path, base_cfg_path, exp_cfg, embedding,\n\u001b[0m\u001b[1;32m    266\u001b[0m                                                                    \u001b[0mfeat_prefix\u001b[0m\u001b[0;34m=\u001b[0m\u001b[0mmethod\u001b[0m\u001b[0;34m,\u001b[0m \u001b[0mk\u001b[0m\u001b[0;34m=\u001b[0m\u001b[0;36m6\u001b[0m\u001b[0;34m,\u001b[0m \u001b[0mpreproc\u001b[0m\u001b[0;34m=\u001b[0m\u001b[0mpreproc\u001b[0m\u001b[0;34m,\u001b[0m\u001b[0;34m\u001b[0m\u001b[0;34m\u001b[0m\u001b[0m\n\u001b[1;32m    267\u001b[0m                                                                    img_types=img_types, slice_criteria=slice_criteria)\n",
      "\u001b[0;32m~/Desktop/thesis/code/nnUNet_ais/DeSD/plots.py\u001b[0m in \u001b[0;36mvisualize_neighbours\u001b[0;34m(base_exp_path, base_cfg_path, exp_cfg, projections, feat_prefix, k, preproc, img_types, slice_criteria)\u001b[0m\n\u001b[1;32m    115\u001b[0m             \u001b[0;32mif\u001b[0m \u001b[0;34m'attr'\u001b[0m \u001b[0;32min\u001b[0m \u001b[0mimg_types\u001b[0m\u001b[0;34m:\u001b[0m\u001b[0;34m\u001b[0m\u001b[0;34m\u001b[0m\u001b[0m\n\u001b[1;32m    116\u001b[0m                 \u001b[0mfilename\u001b[0m \u001b[0;34m=\u001b[0m \u001b[0mattr_path\u001b[0m \u001b[0;34m/\u001b[0m \u001b[0;34mf'{subject}_saliency_ig.nii.gz'\u001b[0m\u001b[0;34m\u001b[0m\u001b[0;34m\u001b[0m\u001b[0m\n\u001b[0;32m--> 117\u001b[0;31m                 \u001b[0mattr\u001b[0m \u001b[0;34m=\u001b[0m \u001b[0msitk\u001b[0m\u001b[0;34m.\u001b[0m\u001b[0mGetArrayFromImage\u001b[0m\u001b[0;34m(\u001b[0m\u001b[0msitk\u001b[0m\u001b[0;34m.\u001b[0m\u001b[0mReadImage\u001b[0m\u001b[0;34m(\u001b[0m\u001b[0mstr\u001b[0m\u001b[0;34m(\u001b[0m\u001b[0mfilename\u001b[0m\u001b[0;34m)\u001b[0m\u001b[0;34m)\u001b[0m\u001b[0;34m)\u001b[0m\u001b[0;34m\u001b[0m\u001b[0;34m\u001b[0m\u001b[0m\n\u001b[0m\u001b[1;32m    118\u001b[0m                 \u001b[0;32mif\u001b[0m \u001b[0;34m'diff'\u001b[0m \u001b[0;32min\u001b[0m \u001b[0mimg_types\u001b[0m\u001b[0;34m:\u001b[0m\u001b[0;34m\u001b[0m\u001b[0;34m\u001b[0m\u001b[0m\n\u001b[1;32m    119\u001b[0m                     \u001b[0mfilename\u001b[0m \u001b[0;34m=\u001b[0m \u001b[0mattr_path\u001b[0m \u001b[0;34m/\u001b[0m \u001b[0;34mf'{subject}_saliency_ig_diff.nii.gz'\u001b[0m\u001b[0;34m\u001b[0m\u001b[0;34m\u001b[0m\u001b[0m\n",
      "\u001b[0;32m~/anaconda3/envs/nnunet_gpu2/lib/python3.10/site-packages/SimpleITK/SimpleITK.py\u001b[0m in \u001b[0;36mReadImage\u001b[0;34m(*args)\u001b[0m\n\u001b[1;32m   9016\u001b[0m \u001b[0;34m\u001b[0m\u001b[0m\n\u001b[1;32m   9017\u001b[0m     \"\"\"\n\u001b[0;32m-> 9018\u001b[0;31m     \u001b[0;32mreturn\u001b[0m \u001b[0m_SimpleITK\u001b[0m\u001b[0;34m.\u001b[0m\u001b[0mReadImage\u001b[0m\u001b[0;34m(\u001b[0m\u001b[0;34m*\u001b[0m\u001b[0margs\u001b[0m\u001b[0;34m)\u001b[0m\u001b[0;34m\u001b[0m\u001b[0;34m\u001b[0m\u001b[0m\n\u001b[0m\u001b[1;32m   9019\u001b[0m \u001b[0;32mclass\u001b[0m \u001b[0mImageViewer\u001b[0m\u001b[0;34m(\u001b[0m\u001b[0m_object\u001b[0m\u001b[0;34m)\u001b[0m\u001b[0;34m:\u001b[0m\u001b[0;34m\u001b[0m\u001b[0;34m\u001b[0m\u001b[0m\n\u001b[1;32m   9020\u001b[0m     \"\"\"\n",
      "\u001b[0;31mRuntimeError\u001b[0m: Exception thrown in SimpleITK ReadImage: /src/SimpleElastix/Code/IO/src/sitkImageReaderBase.cxx:99:\nsitk::ERROR: The file \"/home/jseia/Desktop/thesis/experiments/all_ncct/004/attribution/3Xtd225_saliency_ig.nii.gz\" does not exist."
     ]
    },
    {
     "data": {
      "image/png": "[encoded data removed]",
      "text/plain": [
       "<Figure size 900x800 with 4 Axes>"
      ]
     },
     "metadata": {},
     "output_type": "display_data"
    }
   ],
   "source": [
    "%matplotlib inline\n",
    "exps_cfgs = [\n",
    "    # {'data': 'all_ncct', 'exp': '001', 'context': '-',\n",
    "    #  'centers': {\n",
    "    #     'pca': [[-1, 0], [1, -2], [1.5, 2], [1.5, 0]],\n",
    "    #     'tsne': [[-15, 8], [-15, -6], [30, -8], [30, 7]],\n",
    "    #     'umap': [[-8, 5], [0, -5], [12, 6], [18, 5]]},\n",
    "    # },\n",
    "    {'data': 'all_ncct', 'exp': '004', 'context': 'sym',\n",
    "     'centers': {'tsne': [[-15, 8], [-15, -6], [30, -8], [30, 7]]}},\n",
    "    # {'data': 'all_ncct', 'exp': '002', 'context': 'diff',\n",
    "    #  'centers': {'tsne': [[-10, 1.5], [8, -4.5], [12, 5], [20, -7.5]]}},\n",
    "    # {'data': 'non_tbi', 'exp': '001', 'context': '-',\n",
    "    #  'centers': {'tsne': [[-15, -2.5], [30, -5], [30, 2.5],[36, -3]]}},\n",
    "    # {'data': 'non_tbi', 'exp': '003', 'context': 'sym',\n",
    "    #  'centers': {'tsne': [[-15, -5], [-8,25], [24, -4], [15, 5]]}},\n",
    "    # {'data': 'non_tbi', 'exp': '004', 'context': 'diff',\n",
    "    #  'centers': {'tsne': [[-10, -5], [0,-12], [7, -12], [4, 13]]}},\n",
    "    # {'data': 'tbi', 'exp': '000', 'context': '-',\n",
    "    #  'centers': {'tsne': [[-27, -3], [-16, 5], [33, 2.5], [33, -5]]}},\n",
    "    # {'data': 'tbi', 'exp': '001', 'context': 'sym',\n",
    "    #  'centers': {'tsne': [[-10, -5], [3, -12], [5, 12], [13, 10]]}},\n",
    "    # {'data': 'tbi', 'exp': '002', 'context': 'diff',\n",
    "    #  'centers': {'tsne': [[-16, 5], [-10, 0], [0, 10], [5, -10]]}},\n",
    "]\n",
    "\n",
    "preproc = False\n",
    "lims = [-5, 4] if preproc else [0, 80]\n",
    "ssl_plots.scatter_examples_method(\n",
    "    base_cfg_path, base_experiments_path, exps_cfgs, preproc, lims, 'tsne', plot_type=1, slice_criteria='middle')"
   ]
  },
  {
   "cell_type": "code",
   "execution_count": null,
   "metadata": {},
   "outputs": [
    {
     "name": "stderr",
     "output_type": "stream",
     "text": [
      "WARNING:root:Be aware that since since ncct-tilt the image provided in ncct field will be the ncct-tilt. GT masks will also be adjusted.\n"
     ]
    }
   ],
   "source": [
    "\n",
    " "
   ]
  }
 ],
 "metadata": {
  "kernelspec": {
   "display_name": "Python 3",
   "language": "python",
   "name": "python3"
  },
  "language_info": {
   "codemirror_mode": {
    "name": "ipython",
    "version": 3
   },
   "file_extension": ".py",
   "mimetype": "text/x-python",
   "name": "python",
   "nbconvert_exporter": "python",
   "pygments_lexer": "ipython3",
   "version": "3.10.9"
  },
  "orig_nbformat": 4
 },
 "nbformat": 4,
 "nbformat_minor": 2
}
