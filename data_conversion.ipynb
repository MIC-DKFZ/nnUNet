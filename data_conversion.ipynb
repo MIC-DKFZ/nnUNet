{
 "cells": [
  {
   "cell_type": "markdown",
   "metadata": {},
   "source": [
    "# Dataset conversion\n",
    "This is to convert dataset from TCIA format to nnUNet"
   ]
  },
  {
   "cell_type": "code",
   "execution_count": 2,
   "metadata": {},
   "outputs": [
    {
     "name": "stderr",
     "output_type": "stream",
     "text": [
      "mv: cannot stat ‘/data/bioprotean/BNI/VS_data/vs_gk_39/vs_gk_t1_refT1.nii.gz’: No such file or directory\n",
      "mv: cannot stat ‘/data/bioprotean/BNI/VS_data/vs_gk_97/vs_gk_t1_refT1.nii.gz’: No such file or directory\n",
      "mv: cannot stat ‘/data/bioprotean/BNI/VS_data/vs_gk_130/vs_gk_t1_refT1.nii.gz’: No such file or directory\n",
      "mv: cannot stat ‘/data/bioprotean/BNI/VS_data/vs_gk_160/vs_gk_t1_refT1.nii.gz’: No such file or directory\n",
      "mv: cannot stat ‘/data/bioprotean/BNI/VS_data/vs_gk_168/vs_gk_t1_refT1.nii.gz’: No such file or directory\n"
     ]
    }
   ],
   "source": [
    "%%bash\n",
    "zeros=\"0000\"\n",
    "for i in {1..201}\n",
    "do\n",
    "    temp_num=\"$zeros$i\"\n",
    "    input=/data/bioprotean/BNI/VS_data/vs_gk_$i/vs_gk_t1_refT1.nii.gz\n",
    "    output=/data/bioprotean/BNI/VS_data/nnunet_ready/imagesTr/VS_${temp_num:(-4)}_0001.nii.gz\n",
    "    mv $input $output\n",
    "done"
   ]
  },
  {
   "cell_type": "code",
   "execution_count": null,
   "metadata": {},
   "outputs": [],
   "source": [
    "# Shouldn't have moved the data!\n",
    "# DAMMIT!\n",
    "# Copying them back"
   ]
  },
  {
   "cell_type": "code",
   "execution_count": 4,
   "metadata": {},
   "outputs": [
    {
     "name": "stderr",
     "output_type": "stream",
     "text": [
      "cp: cannot stat ‘/data/bioprotean/BNI/VS_data/nnunet_ready/imagesTr/VS_0039_0001.nii.gz’: No such file or directory\n",
      "cp: cannot stat ‘/data/bioprotean/BNI/VS_data/nnunet_ready/imagesTr/VS_0097_0001.nii.gz’: No such file or directory\n",
      "cp: cannot stat ‘/data/bioprotean/BNI/VS_data/nnunet_ready/imagesTr/VS_0130_0001.nii.gz’: No such file or directory\n",
      "cp: cannot stat ‘/data/bioprotean/BNI/VS_data/nnunet_ready/imagesTr/VS_0160_0001.nii.gz’: No such file or directory\n",
      "cp: cannot stat ‘/data/bioprotean/BNI/VS_data/nnunet_ready/imagesTr/VS_0168_0001.nii.gz’: No such file or directory\n"
     ]
    }
   ],
   "source": [
    "%%bash\n",
    "zeros=\"0000\"\n",
    "for i in {1..201}\n",
    "do\n",
    "    temp_num=\"$zeros$i\"\n",
    "    input=/data/bioprotean/BNI/VS_data/vs_gk_$i/vs_gk_t1_refT1.nii.gz\n",
    "    output=/data/bioprotean/BNI/VS_data/nnunet_ready/imagesTr/VS_${temp_num:(-4)}_0001.nii.gz\n",
    "    scp $output $input\n",
    "done"
   ]
  },
  {
   "cell_type": "code",
   "execution_count": 3,
   "metadata": {},
   "outputs": [
    {
     "name": "stderr",
     "output_type": "stream",
     "text": [
      "cp: cannot stat ‘/data/bioprotean/BNI/VS_data/vs_gk_201/vs_gk_t1_refT1.nii.gz’: No such file or directory\n",
      "cp: cannot stat ‘/data/bioprotean/BNI/VS_data/vs_gk_208/vs_gk_t1_refT1.nii.gz’: No such file or directory\n",
      "cp: cannot stat ‘/data/bioprotean/BNI/VS_data/vs_gk_219/vs_gk_t1_refT1.nii.gz’: No such file or directory\n",
      "cp: cannot stat ‘/data/bioprotean/BNI/VS_data/vs_gk_227/vs_gk_t1_refT1.nii.gz’: No such file or directory\n"
     ]
    }
   ],
   "source": [
    "%%bash\n",
    "zeros=\"0000\"\n",
    "for i in {202..250}\n",
    "do\n",
    "    temp_num=\"$zeros$i\"\n",
    "    input=/data/bioprotean/BNI/VS_data/vs_gk_$i/vs_gk_t1_refT1.nii.gz\n",
    "    output=/data/bioprotean/BNI/VS_data/nnunet_ready/imagesTs/VS_${temp_num:(-4)}_0001.nii.gz\n",
    "    scp $input $output\n",
    "done"
   ]
  },
  {
   "cell_type": "code",
   "execution_count": null,
   "metadata": {},
   "outputs": [],
   "source": [
    "# You're not paying attention momo, it has only 3 zeros, not four!\n",
    "# Do I have ADHD?\n",
    "# Copying the files to new zeros format and removing previous ones."
   ]
  },
  {
   "cell_type": "code",
   "execution_count": 6,
   "metadata": {},
   "outputs": [
    {
     "name": "stderr",
     "output_type": "stream",
     "text": [
      "cp: cannot stat ‘/data/bioprotean/BNI/VS_data/nnunet_ready/imagesTr/VS_0039_0001.nii.gz’: No such file or directory\n",
      "rm: cannot remove ‘/data/bioprotean/BNI/VS_data/nnunet_ready/imagesTr/VS_0039_0001.nii.gz’: No such file or directory\n",
      "cp: cannot stat ‘/data/bioprotean/BNI/VS_data/nnunet_ready/imagesTr/VS_0097_0001.nii.gz’: No such file or directory\n",
      "rm: cannot remove ‘/data/bioprotean/BNI/VS_data/nnunet_ready/imagesTr/VS_0097_0001.nii.gz’: No such file or directory\n",
      "cp: cannot stat ‘/data/bioprotean/BNI/VS_data/nnunet_ready/imagesTr/VS_0130_0001.nii.gz’: No such file or directory\n",
      "rm: cannot remove ‘/data/bioprotean/BNI/VS_data/nnunet_ready/imagesTr/VS_0130_0001.nii.gz’: No such file or directory\n",
      "cp: cannot stat ‘/data/bioprotean/BNI/VS_data/nnunet_ready/imagesTr/VS_0160_0001.nii.gz’: No such file or directory\n",
      "rm: cannot remove ‘/data/bioprotean/BNI/VS_data/nnunet_ready/imagesTr/VS_0160_0001.nii.gz’: No such file or directory\n",
      "cp: cannot stat ‘/data/bioprotean/BNI/VS_data/nnunet_ready/imagesTr/VS_0168_0001.nii.gz’: No such file or directory\n",
      "rm: cannot remove ‘/data/bioprotean/BNI/VS_data/nnunet_ready/imagesTr/VS_0168_0001.nii.gz’: No such file or directory\n"
     ]
    }
   ],
   "source": [
    "%%bash\n",
    "old_zeros=\"0000\"\n",
    "new_zeros=\"000\"\n",
    "for i in {1..201}\n",
    "do\n",
    "    old_num=\"$old_zeros$i\"\n",
    "    new_num=\"$new_zeros$i\"\n",
    "    input=/data/bioprotean/BNI/VS_data/nnunet_ready/imagesTr/VS_${old_num:(-4)}_0001.nii.gz\n",
    "    output=/data/bioprotean/BNI/VS_data/nnunet_ready/imagesTr/VS_${new_num:(-3)}_0001.nii.gz\n",
    "    scp $input $output\n",
    "    rm $input\n",
    "done"
   ]
  },
  {
   "cell_type": "code",
   "execution_count": 7,
   "metadata": {},
   "outputs": [
    {
     "name": "stderr",
     "output_type": "stream",
     "text": [
      "cp: cannot stat ‘/data/bioprotean/BNI/VS_data/nnunet_ready/imagesTs/VS_0208_0001.nii.gz’: No such file or directory\n",
      "rm: cannot remove ‘/data/bioprotean/BNI/VS_data/nnunet_ready/imagesTs/VS_0208_0001.nii.gz’: No such file or directory\n",
      "cp: cannot stat ‘/data/bioprotean/BNI/VS_data/nnunet_ready/imagesTs/VS_0219_0001.nii.gz’: No such file or directory\n",
      "rm: cannot remove ‘/data/bioprotean/BNI/VS_data/nnunet_ready/imagesTs/VS_0219_0001.nii.gz’: No such file or directory\n",
      "cp: cannot stat ‘/data/bioprotean/BNI/VS_data/nnunet_ready/imagesTs/VS_0227_0001.nii.gz’: No such file or directory\n",
      "rm: cannot remove ‘/data/bioprotean/BNI/VS_data/nnunet_ready/imagesTs/VS_0227_0001.nii.gz’: No such file or directory\n"
     ]
    }
   ],
   "source": [
    "%%bash\n",
    "old_zeros=\"0000\"\n",
    "new_zeros=\"000\"\n",
    "for i in {202..250}\n",
    "do\n",
    "    old_num=\"$old_zeros$i\"\n",
    "    new_num=\"$new_zeros$i\"\n",
    "    input=/data/bioprotean/BNI/VS_data/nnunet_ready/imagesTs/VS_${old_num:(-4)}_0001.nii.gz\n",
    "    output=/data/bioprotean/BNI/VS_data/nnunet_ready/imagesTs/VS_${new_num:(-3)}_0001.nii.gz\n",
    "    scp $input $output\n",
    "    rm $input\n",
    "done"
   ]
  },
  {
   "cell_type": "code",
   "execution_count": null,
   "metadata": {},
   "outputs": [],
   "source": [
    "# Time to copy the labels"
   ]
  },
  {
   "cell_type": "code",
   "execution_count": 10,
   "metadata": {},
   "outputs": [
    {
     "name": "stderr",
     "output_type": "stream",
     "text": [
      "cp: cannot stat ‘/data/bioprotean/BNI/VS_data/vs_gk_39/vs_gk_seg_refT1.nii.gz’: No such file or directory\n",
      "cp: cannot stat ‘/data/bioprotean/BNI/VS_data/vs_gk_97/vs_gk_seg_refT1.nii.gz’: No such file or directory\n",
      "cp: cannot stat ‘/data/bioprotean/BNI/VS_data/vs_gk_130/vs_gk_seg_refT1.nii.gz’: No such file or directory\n",
      "cp: cannot stat ‘/data/bioprotean/BNI/VS_data/vs_gk_160/vs_gk_seg_refT1.nii.gz’: No such file or directory\n",
      "cp: cannot stat ‘/data/bioprotean/BNI/VS_data/vs_gk_168/vs_gk_seg_refT1.nii.gz’: No such file or directory\n"
     ]
    }
   ],
   "source": [
    "%%bash\n",
    "zeros=\"000\"\n",
    "for i in {1..201}\n",
    "do\n",
    "    temp_num=\"$zeros$i\"\n",
    "    input=/data/bioprotean/BNI/VS_data/vs_gk_$i/vs_gk_seg_refT1.nii.gz\n",
    "    output=/data/bioprotean/BNI/VS_data/nnunet_ready/labelsTr/VS_${temp_num:(-3)}_0001.nii.gz\n",
    "    scp $input $output\n",
    "done"
   ]
  },
  {
   "cell_type": "code",
   "execution_count": 11,
   "metadata": {},
   "outputs": [
    {
     "name": "stderr",
     "output_type": "stream",
     "text": [
      "cp: cannot stat ‘/data/bioprotean/BNI/VS_data/vs_gk_208/vs_gk_seg_refT1.nii.gz’: No such file or directory\n",
      "cp: cannot stat ‘/data/bioprotean/BNI/VS_data/vs_gk_219/vs_gk_seg_refT1.nii.gz’: No such file or directory\n",
      "cp: cannot stat ‘/data/bioprotean/BNI/VS_data/vs_gk_227/vs_gk_seg_refT1.nii.gz’: No such file or directory\n"
     ]
    }
   ],
   "source": [
    "%%bash\n",
    "zeros=\"000\"\n",
    "for i in {202..250}\n",
    "do\n",
    "    temp_num=\"$zeros$i\"\n",
    "    input=/data/bioprotean/BNI/VS_data/vs_gk_$i/vs_gk_seg_refT1.nii.gz\n",
    "    output=/data/bioprotean/BNI/VS_data/nnunet_ready/labelsTs/VS_${temp_num:(-3)}_0001.nii.gz\n",
    "    scp $input $output\n",
    "done"
   ]
  },
  {
   "cell_type": "markdown",
   "metadata": {},
   "source": [
    "# T2 images"
   ]
  },
  {
   "cell_type": "code",
   "execution_count": 12,
   "metadata": {},
   "outputs": [
    {
     "name": "stderr",
     "output_type": "stream",
     "text": [
      "cp: cannot stat ‘/data/bioprotean/BNI/VS_data/vs_gk_39/vs_gk_t2_refT2.nii.gz’: No such file or directory\n",
      "cp: cannot stat ‘/data/bioprotean/BNI/VS_data/vs_gk_97/vs_gk_t2_refT2.nii.gz’: No such file or directory\n",
      "cp: cannot stat ‘/data/bioprotean/BNI/VS_data/vs_gk_130/vs_gk_t2_refT2.nii.gz’: No such file or directory\n",
      "cp: cannot stat ‘/data/bioprotean/BNI/VS_data/vs_gk_160/vs_gk_t2_refT2.nii.gz’: No such file or directory\n",
      "cp: cannot stat ‘/data/bioprotean/BNI/VS_data/vs_gk_168/vs_gk_t2_refT2.nii.gz’: No such file or directory\n"
     ]
    }
   ],
   "source": [
    "%%bash\n",
    "zeros=\"000\"\n",
    "for i in {1..201}\n",
    "do\n",
    "    temp_num=\"$zeros$i\"\n",
    "    input=/data/bioprotean/BNI/VS_data/vs_gk_$i/vs_gk_t2_refT2.nii.gz\n",
    "    output=/data/bioprotean/BNI/VS_data/nnunet_ready/imagesTr/VS_${temp_num:(-3)}_0003.nii.gz\n",
    "    scp $input $output\n",
    "done"
   ]
  },
  {
   "cell_type": "code",
   "execution_count": 13,
   "metadata": {},
   "outputs": [
    {
     "name": "stderr",
     "output_type": "stream",
     "text": [
      "cp: cannot stat ‘/data/bioprotean/BNI/VS_data/vs_gk_208/vs_gk_t2_refT2.nii.gz’: No such file or directory\n",
      "cp: cannot stat ‘/data/bioprotean/BNI/VS_data/vs_gk_219/vs_gk_t2_refT2.nii.gz’: No such file or directory\n",
      "cp: cannot stat ‘/data/bioprotean/BNI/VS_data/vs_gk_227/vs_gk_t2_refT2.nii.gz’: No such file or directory\n"
     ]
    }
   ],
   "source": [
    "%%bash\n",
    "zeros=\"000\"\n",
    "for i in {202..250}\n",
    "do\n",
    "    temp_num=\"$zeros$i\"\n",
    "    input=/data/bioprotean/BNI/VS_data/vs_gk_$i/vs_gk_t2_refT2.nii.gz\n",
    "    output=/data/bioprotean/BNI/VS_data/nnunet_ready/imagesTs/VS_${temp_num:(-3)}_0003.nii.gz\n",
    "    scp $input $output\n",
    "done"
   ]
  },
  {
   "cell_type": "code",
   "execution_count": 14,
   "metadata": {},
   "outputs": [
    {
     "name": "stderr",
     "output_type": "stream",
     "text": [
      "cp: cannot stat ‘/data/bioprotean/BNI/VS_data/vs_gk_39/vs_gk_seg_refT2.nii.gz’: No such file or directory\n",
      "cp: cannot stat ‘/data/bioprotean/BNI/VS_data/vs_gk_97/vs_gk_seg_refT2.nii.gz’: No such file or directory\n",
      "cp: cannot stat ‘/data/bioprotean/BNI/VS_data/vs_gk_130/vs_gk_seg_refT2.nii.gz’: No such file or directory\n",
      "cp: cannot stat ‘/data/bioprotean/BNI/VS_data/vs_gk_160/vs_gk_seg_refT2.nii.gz’: No such file or directory\n",
      "cp: cannot stat ‘/data/bioprotean/BNI/VS_data/vs_gk_168/vs_gk_seg_refT2.nii.gz’: No such file or directory\n"
     ]
    }
   ],
   "source": [
    "%%bash\n",
    "zeros=\"000\"\n",
    "for i in {1..201}\n",
    "do\n",
    "    temp_num=\"$zeros$i\"\n",
    "    input=/data/bioprotean/BNI/VS_data/vs_gk_$i/vs_gk_seg_refT2.nii.gz\n",
    "    output=/data/bioprotean/BNI/VS_data/nnunet_ready/labelsTr/VS_${temp_num:(-3)}_0003.nii.gz\n",
    "    scp $input $output\n",
    "done"
   ]
  },
  {
   "cell_type": "code",
   "execution_count": null,
   "metadata": {},
   "outputs": [],
   "source": [
    "%%bash\n",
    "zeros=\"000\"\n",
    "for i in {202..250}\n",
    "do\n",
    "    temp_num=\"$zeros$i\"\n",
    "    input=/data/bioprotean/BNI/VS_data/vs_gk_$i/vs_gk_seg_refT2.nii.gz\n",
    "    output=/data/bioprotean/BNI/VS_data/nnunet_ready/labelsTs/VS_${temp_num:(-3)}_0003.nii.gz\n",
    "    scp $input $output\n",
    "done"
   ]
  },
  {
   "cell_type": "markdown",
   "metadata": {},
   "source": [
    "# Changing T2 codes to 0000"
   ]
  },
  {
   "cell_type": "code",
   "execution_count": 18,
   "metadata": {},
   "outputs": [
    {
     "name": "stderr",
     "output_type": "stream",
     "text": [
      "cp: cannot stat ‘/data/bioprotean/BNI/VS_data/nnunet_ready/imagesTr/VS_039_0003.nii.gz’: No such file or directory\n",
      "rm: cannot remove ‘/data/bioprotean/BNI/VS_data/nnunet_ready/imagesTr/VS_039_0003.nii.gz’: No such file or directory\n",
      "cp: cannot stat ‘/data/bioprotean/BNI/VS_data/nnunet_ready/imagesTr/VS_097_0003.nii.gz’: No such file or directory\n",
      "rm: cannot remove ‘/data/bioprotean/BNI/VS_data/nnunet_ready/imagesTr/VS_097_0003.nii.gz’: No such file or directory\n",
      "cp: cannot stat ‘/data/bioprotean/BNI/VS_data/nnunet_ready/imagesTr/VS_130_0003.nii.gz’: No such file or directory\n",
      "rm: cannot remove ‘/data/bioprotean/BNI/VS_data/nnunet_ready/imagesTr/VS_130_0003.nii.gz’: No such file or directory\n",
      "cp: cannot stat ‘/data/bioprotean/BNI/VS_data/nnunet_ready/imagesTr/VS_160_0003.nii.gz’: No such file or directory\n",
      "rm: cannot remove ‘/data/bioprotean/BNI/VS_data/nnunet_ready/imagesTr/VS_160_0003.nii.gz’: No such file or directory\n",
      "cp: cannot stat ‘/data/bioprotean/BNI/VS_data/nnunet_ready/imagesTr/VS_168_0003.nii.gz’: No such file or directory\n",
      "rm: cannot remove ‘/data/bioprotean/BNI/VS_data/nnunet_ready/imagesTr/VS_168_0003.nii.gz’: No such file or directory\n"
     ]
    }
   ],
   "source": [
    "%%bash\n",
    "zeros=\"000\"\n",
    "for i in {1..201}\n",
    "do\n",
    "    temp_num=\"$zeros$i\"\n",
    "    input=/data/bioprotean/BNI/VS_data/nnunet_ready/imagesTr/VS_${temp_num:(-3)}_0003.nii.gz\n",
    "    output=/data/bioprotean/BNI/VS_data/nnunet_ready/imagesTr/VS_${temp_num:(-3)}_000.nii.gz\n",
    "    scp $input $output\n",
    "    rm $input\n",
    "done"
   ]
  },
  {
   "cell_type": "code",
   "execution_count": null,
   "metadata": {},
   "outputs": [],
   "source": [
    "# Made a mistake and changed it to 000 LOL"
   ]
  },
  {
   "cell_type": "code",
   "execution_count": 19,
   "metadata": {},
   "outputs": [
    {
     "name": "stderr",
     "output_type": "stream",
     "text": [
      "cp: cannot stat ‘/data/bioprotean/BNI/VS_data/nnunet_ready/imagesTr/VS_039_000.nii.gz’: No such file or directory\n",
      "rm: cannot remove ‘/data/bioprotean/BNI/VS_data/nnunet_ready/imagesTr/VS_039_000.nii.gz’: No such file or directory\n",
      "cp: cannot stat ‘/data/bioprotean/BNI/VS_data/nnunet_ready/imagesTr/VS_097_000.nii.gz’: No such file or directory\n",
      "rm: cannot remove ‘/data/bioprotean/BNI/VS_data/nnunet_ready/imagesTr/VS_097_000.nii.gz’: No such file or directory\n",
      "cp: cannot stat ‘/data/bioprotean/BNI/VS_data/nnunet_ready/imagesTr/VS_130_000.nii.gz’: No such file or directory\n",
      "rm: cannot remove ‘/data/bioprotean/BNI/VS_data/nnunet_ready/imagesTr/VS_130_000.nii.gz’: No such file or directory\n",
      "cp: cannot stat ‘/data/bioprotean/BNI/VS_data/nnunet_ready/imagesTr/VS_160_000.nii.gz’: No such file or directory\n",
      "rm: cannot remove ‘/data/bioprotean/BNI/VS_data/nnunet_ready/imagesTr/VS_160_000.nii.gz’: No such file or directory\n",
      "cp: cannot stat ‘/data/bioprotean/BNI/VS_data/nnunet_ready/imagesTr/VS_168_000.nii.gz’: No such file or directory\n",
      "rm: cannot remove ‘/data/bioprotean/BNI/VS_data/nnunet_ready/imagesTr/VS_168_000.nii.gz’: No such file or directory\n"
     ]
    }
   ],
   "source": [
    "%%bash\n",
    "zeros=\"000\"\n",
    "for i in {1..201}\n",
    "do\n",
    "    temp_num=\"$zeros$i\"\n",
    "    input=/data/bioprotean/BNI/VS_data/nnunet_ready/imagesTr/VS_${temp_num:(-3)}_000.nii.gz\n",
    "    output=/data/bioprotean/BNI/VS_data/nnunet_ready/imagesTr/VS_${temp_num:(-3)}_0000.nii.gz\n",
    "    scp $input $output\n",
    "    rm $input\n",
    "done"
   ]
  },
  {
   "cell_type": "code",
   "execution_count": 20,
   "metadata": {},
   "outputs": [
    {
     "name": "stderr",
     "output_type": "stream",
     "text": [
      "cp: cannot stat ‘/data/bioprotean/BNI/VS_data/nnunet_ready/imagesTs/VS_208_0003.nii.gz’: No such file or directory\n",
      "rm: cannot remove ‘/data/bioprotean/BNI/VS_data/nnunet_ready/imagesTs/VS_208_0003.nii.gz’: No such file or directory\n",
      "cp: cannot stat ‘/data/bioprotean/BNI/VS_data/nnunet_ready/imagesTs/VS_219_0003.nii.gz’: No such file or directory\n",
      "rm: cannot remove ‘/data/bioprotean/BNI/VS_data/nnunet_ready/imagesTs/VS_219_0003.nii.gz’: No such file or directory\n",
      "cp: cannot stat ‘/data/bioprotean/BNI/VS_data/nnunet_ready/imagesTs/VS_227_0003.nii.gz’: No such file or directory\n",
      "rm: cannot remove ‘/data/bioprotean/BNI/VS_data/nnunet_ready/imagesTs/VS_227_0003.nii.gz’: No such file or directory\n"
     ]
    }
   ],
   "source": [
    "%%bash\n",
    "zeros=\"000\"\n",
    "for i in {202..250}\n",
    "do\n",
    "    temp_num=\"$zeros$i\"\n",
    "    input=/data/bioprotean/BNI/VS_data/nnunet_ready/imagesTs/VS_${temp_num:(-3)}_0003.nii.gz\n",
    "    output=/data/bioprotean/BNI/VS_data/nnunet_ready/imagesTs/VS_${temp_num:(-3)}_0000.nii.gz\n",
    "    scp $input $output\n",
    "    rm $input\n",
    "done"
   ]
  },
  {
   "cell_type": "code",
   "execution_count": 21,
   "metadata": {},
   "outputs": [
    {
     "name": "stderr",
     "output_type": "stream",
     "text": [
      "cp: cannot stat ‘/data/bioprotean/BNI/VS_data/nnunet_ready/labelsTr/VS_039_0003.nii.gz’: No such file or directory\n",
      "rm: cannot remove ‘/data/bioprotean/BNI/VS_data/nnunet_ready/labelsTr/VS_039_0003.nii.gz’: No such file or directory\n",
      "cp: cannot stat ‘/data/bioprotean/BNI/VS_data/nnunet_ready/labelsTr/VS_097_0003.nii.gz’: No such file or directory\n",
      "rm: cannot remove ‘/data/bioprotean/BNI/VS_data/nnunet_ready/labelsTr/VS_097_0003.nii.gz’: No such file or directory\n",
      "cp: cannot stat ‘/data/bioprotean/BNI/VS_data/nnunet_ready/labelsTr/VS_130_0003.nii.gz’: No such file or directory\n",
      "rm: cannot remove ‘/data/bioprotean/BNI/VS_data/nnunet_ready/labelsTr/VS_130_0003.nii.gz’: No such file or directory\n",
      "cp: cannot stat ‘/data/bioprotean/BNI/VS_data/nnunet_ready/labelsTr/VS_160_0003.nii.gz’: No such file or directory\n",
      "rm: cannot remove ‘/data/bioprotean/BNI/VS_data/nnunet_ready/labelsTr/VS_160_0003.nii.gz’: No such file or directory\n",
      "cp: cannot stat ‘/data/bioprotean/BNI/VS_data/nnunet_ready/labelsTr/VS_168_0003.nii.gz’: No such file or directory\n",
      "rm: cannot remove ‘/data/bioprotean/BNI/VS_data/nnunet_ready/labelsTr/VS_168_0003.nii.gz’: No such file or directory\n"
     ]
    }
   ],
   "source": [
    "%%bash\n",
    "zeros=\"000\"\n",
    "for i in {1..201}\n",
    "do\n",
    "    temp_num=\"$zeros$i\"\n",
    "    input=/data/bioprotean/BNI/VS_data/nnunet_ready/labelsTr/VS_${temp_num:(-3)}_0003.nii.gz\n",
    "    output=/data/bioprotean/BNI/VS_data/nnunet_ready/labelsTr/VS_${temp_num:(-3)}_0000.nii.gz\n",
    "    scp $input $output\n",
    "    rm $input\n",
    "done"
   ]
  },
  {
   "cell_type": "code",
   "execution_count": 22,
   "metadata": {},
   "outputs": [
    {
     "name": "stderr",
     "output_type": "stream",
     "text": [
      "cp: cannot stat ‘/data/bioprotean/BNI/VS_data/nnunet_ready/labelsTs/VS_208_0003.nii.gz’: No such file or directory\n",
      "rm: cannot remove ‘/data/bioprotean/BNI/VS_data/nnunet_ready/labelsTs/VS_208_0003.nii.gz’: No such file or directory\n",
      "cp: cannot stat ‘/data/bioprotean/BNI/VS_data/nnunet_ready/labelsTs/VS_219_0003.nii.gz’: No such file or directory\n",
      "rm: cannot remove ‘/data/bioprotean/BNI/VS_data/nnunet_ready/labelsTs/VS_219_0003.nii.gz’: No such file or directory\n",
      "cp: cannot stat ‘/data/bioprotean/BNI/VS_data/nnunet_ready/labelsTs/VS_227_0003.nii.gz’: No such file or directory\n",
      "rm: cannot remove ‘/data/bioprotean/BNI/VS_data/nnunet_ready/labelsTs/VS_227_0003.nii.gz’: No such file or directory\n"
     ]
    }
   ],
   "source": [
    "%%bash\n",
    "zeros=\"000\"\n",
    "for i in {202..250}\n",
    "do\n",
    "    temp_num=\"$zeros$i\"\n",
    "    input=/data/bioprotean/BNI/VS_data/nnunet_ready/labelsTs/VS_${temp_num:(-3)}_0003.nii.gz\n",
    "    output=/data/bioprotean/BNI/VS_data/nnunet_ready/labelsTs/VS_${temp_num:(-3)}_0000.nii.gz\n",
    "    scp $input $output\n",
    "    rm $input\n",
    "done"
   ]
  },
  {
   "cell_type": "markdown",
   "metadata": {},
   "source": [
    "# Test dataset: 1:40 train, 41:50 test\n",
    "From dataset that T2 is registered to T1.\n",
    "<br>T1 labeled as 0000."
   ]
  },
  {
   "cell_type": "code",
   "execution_count": 1,
   "metadata": {},
   "outputs": [
    {
     "name": "stderr",
     "output_type": "stream",
     "text": [
      "cp: cannot stat ‘/data/bioprotean/BNI/VS_data/nnUNet_raw_data_base/nnUNet_raw_data/prep_reg_T2/vs_gk_39/vs_gk_t1_refT2.nii.gz’: No such file or directory\n"
     ]
    }
   ],
   "source": [
    "%%bash\n",
    "zeros=\"000\"\n",
    "for i in {1..40}\n",
    "do\n",
    "    temp_num=\"$zeros$i\"\n",
    "    input=/data/bioprotean/BNI/VS_data/nnUNet_raw_data_base/nnUNet_raw_data/prep_reg_T2/vs_gk_$i/vs_gk_t1_refT2.nii.gz\n",
    "    output=/data/bioprotean/BNI/VS_data/nnUNet_raw_data_base/nnUNet_raw_data/Task002_VStest/imagesTr/VS_${temp_num:(-3)}_0000.nii.gz\n",
    "    scp $input $output\n",
    "done"
   ]
  },
  {
   "cell_type": "code",
   "execution_count": 2,
   "metadata": {},
   "outputs": [],
   "source": [
    "%%bash\n",
    "zeros=\"000\"\n",
    "for i in {41..50}\n",
    "do\n",
    "    temp_num=\"$zeros$i\"\n",
    "    input=/data/bioprotean/BNI/VS_data/nnUNet_raw_data_base/nnUNet_raw_data/prep_reg_T2/vs_gk_$i/vs_gk_t1_refT2.nii.gz\n",
    "    output=/data/bioprotean/BNI/VS_data/nnUNet_raw_data_base/nnUNet_raw_data/Task002_VStest/imagesTs/VS_${temp_num:(-3)}_0000.nii.gz\n",
    "    scp $input $output\n",
    "done"
   ]
  },
  {
   "cell_type": "code",
   "execution_count": 3,
   "metadata": {},
   "outputs": [
    {
     "name": "stderr",
     "output_type": "stream",
     "text": [
      "cp: cannot stat ‘/data/bioprotean/BNI/VS_data/nnUNet_raw_data_base/nnUNet_raw_data/prep_reg_T2/vs_gk_39/vs_gk_t2_refT2.nii.gz’: No such file or directory\n"
     ]
    }
   ],
   "source": [
    "%%bash\n",
    "zeros=\"000\"\n",
    "for i in {1..40}\n",
    "do\n",
    "    temp_num=\"$zeros$i\"\n",
    "    input=/data/bioprotean/BNI/VS_data/nnUNet_raw_data_base/nnUNet_raw_data/prep_reg_T2/vs_gk_$i/vs_gk_t2_refT2.nii.gz\n",
    "    output=/data/bioprotean/BNI/VS_data/nnUNet_raw_data_base/nnUNet_raw_data/Task002_VStest/imagesTr/VS_${temp_num:(-3)}_0001.nii.gz\n",
    "    scp $input $output\n",
    "done"
   ]
  },
  {
   "cell_type": "code",
   "execution_count": 4,
   "metadata": {},
   "outputs": [],
   "source": [
    "%%bash\n",
    "zeros=\"000\"\n",
    "for i in {41..50}\n",
    "do\n",
    "    temp_num=\"$zeros$i\"\n",
    "    input=/data/bioprotean/BNI/VS_data/nnUNet_raw_data_base/nnUNet_raw_data/prep_reg_T2/vs_gk_$i/vs_gk_t2_refT2.nii.gz\n",
    "    output=/data/bioprotean/BNI/VS_data/nnUNet_raw_data_base/nnUNet_raw_data/Task002_VStest/imagesTs/VS_${temp_num:(-3)}_0001.nii.gz\n",
    "    scp $input $output\n",
    "done"
   ]
  },
  {
   "cell_type": "code",
   "execution_count": 5,
   "metadata": {},
   "outputs": [
    {
     "name": "stderr",
     "output_type": "stream",
     "text": [
      "cp: cannot stat ‘/data/bioprotean/BNI/VS_data/nnUNet_raw_data_base/nnUNet_raw_data/prep_reg_T2/vs_gk_39/vs_gk_seg_refT2.nii.gz’: No such file or directory\n"
     ]
    }
   ],
   "source": [
    "%%bash\n",
    "zeros=\"000\"\n",
    "for i in {1..40}\n",
    "do\n",
    "    temp_num=\"$zeros$i\"\n",
    "    input=/data/bioprotean/BNI/VS_data/nnUNet_raw_data_base/nnUNet_raw_data/prep_reg_T2/vs_gk_$i/vs_gk_seg_refT2.nii.gz\n",
    "    output=/data/bioprotean/BNI/VS_data/nnUNet_raw_data_base/nnUNet_raw_data/Task002_VStest/labelsTr/VS_${temp_num:(-3)}.nii.gz\n",
    "    scp $input $output\n",
    "done"
   ]
  },
  {
   "cell_type": "code",
   "execution_count": 6,
   "metadata": {},
   "outputs": [],
   "source": [
    "%%bash\n",
    "zeros=\"000\"\n",
    "for i in {41..50}\n",
    "do\n",
    "    temp_num=\"$zeros$i\"\n",
    "    input=/data/bioprotean/BNI/VS_data/nnUNet_raw_data_base/nnUNet_raw_data/prep_reg_T2/vs_gk_$i/vs_gk_seg_refT2.nii.gz\n",
    "    output=/data/bioprotean/BNI/VS_data/nnUNet_raw_data_base/nnUNet_raw_data/Task002_VStest/labelsTs/VS_${temp_num:(-3)}.nii.gz\n",
    "    scp $input $output\n",
    "done"
   ]
  },
  {
   "cell_type": "markdown",
   "metadata": {},
   "source": [
    "# Complete dataset\n",
    "From dataset that T2 is registered to T1.\n",
    "<br>T1 labeled as 0000."
   ]
  },
  {
   "cell_type": "code",
   "execution_count": 8,
   "metadata": {},
   "outputs": [
    {
     "name": "stderr",
     "output_type": "stream",
     "text": [
      "cp: cannot stat ‘/data/bioprotean/BNI/VS_data/nnUNet_raw_data_base/nnUNet_raw_data/prep_reg_T2/vs_gk_39/vs_gk_t1_refT2.nii.gz’: No such file or directory\n",
      "cp: cannot stat ‘/data/bioprotean/BNI/VS_data/nnUNet_raw_data_base/nnUNet_raw_data/prep_reg_T2/vs_gk_97/vs_gk_t1_refT2.nii.gz’: No such file or directory\n",
      "cp: cannot stat ‘/data/bioprotean/BNI/VS_data/nnUNet_raw_data_base/nnUNet_raw_data/prep_reg_T2/vs_gk_130/vs_gk_t1_refT2.nii.gz’: No such file or directory\n",
      "cp: cannot stat ‘/data/bioprotean/BNI/VS_data/nnUNet_raw_data_base/nnUNet_raw_data/prep_reg_T2/vs_gk_160/vs_gk_t1_refT2.nii.gz’: No such file or directory\n",
      "cp: cannot stat ‘/data/bioprotean/BNI/VS_data/nnUNet_raw_data_base/nnUNet_raw_data/prep_reg_T2/vs_gk_168/vs_gk_t1_refT2.nii.gz’: No such file or directory\n"
     ]
    }
   ],
   "source": [
    "%%bash\n",
    "zeros=\"000\"\n",
    "for i in {1..201}\n",
    "do\n",
    "    temp_num=\"$zeros$i\"\n",
    "    input=/data/bioprotean/BNI/VS_data/nnUNet_raw_data_base/nnUNet_raw_data/prep_reg_T2/vs_gk_$i/vs_gk_t1_refT2.nii.gz\n",
    "    output=/data/bioprotean/BNI/VS_data/nnUNet_raw_data_base/nnUNet_raw_data/Task003_VSfull/imagesTr/VS_${temp_num:(-3)}_0000.nii.gz\n",
    "    scp $input $output\n",
    "done"
   ]
  },
  {
   "cell_type": "code",
   "execution_count": 9,
   "metadata": {},
   "outputs": [
    {
     "name": "stderr",
     "output_type": "stream",
     "text": [
      "cp: cannot stat ‘/data/bioprotean/BNI/VS_data/nnUNet_raw_data_base/nnUNet_raw_data/prep_reg_T2/vs_gk_208/vs_gk_t1_refT2.nii.gz’: No such file or directory\n",
      "cp: cannot stat ‘/data/bioprotean/BNI/VS_data/nnUNet_raw_data_base/nnUNet_raw_data/prep_reg_T2/vs_gk_219/vs_gk_t1_refT2.nii.gz’: No such file or directory\n",
      "cp: cannot stat ‘/data/bioprotean/BNI/VS_data/nnUNet_raw_data_base/nnUNet_raw_data/prep_reg_T2/vs_gk_227/vs_gk_t1_refT2.nii.gz’: No such file or directory\n"
     ]
    }
   ],
   "source": [
    "%%bash\n",
    "zeros=\"000\"\n",
    "for i in {202..250}\n",
    "do\n",
    "    temp_num=\"$zeros$i\"\n",
    "    input=/data/bioprotean/BNI/VS_data/nnUNet_raw_data_base/nnUNet_raw_data/prep_reg_T2/vs_gk_$i/vs_gk_t1_refT2.nii.gz\n",
    "    output=/data/bioprotean/BNI/VS_data/nnUNet_raw_data_base/nnUNet_raw_data/Task003_VSfull/imagesTs/VS_${temp_num:(-3)}_0000.nii.gz\n",
    "    scp $input $output\n",
    "done"
   ]
  },
  {
   "cell_type": "code",
   "execution_count": 10,
   "metadata": {},
   "outputs": [
    {
     "name": "stderr",
     "output_type": "stream",
     "text": [
      "cp: cannot stat ‘/data/bioprotean/BNI/VS_data/nnUNet_raw_data_base/nnUNet_raw_data/prep_reg_T2/vs_gk_39/vs_gk_t2_refT2.nii.gz’: No such file or directory\n",
      "cp: cannot stat ‘/data/bioprotean/BNI/VS_data/nnUNet_raw_data_base/nnUNet_raw_data/prep_reg_T2/vs_gk_97/vs_gk_t2_refT2.nii.gz’: No such file or directory\n",
      "cp: cannot stat ‘/data/bioprotean/BNI/VS_data/nnUNet_raw_data_base/nnUNet_raw_data/prep_reg_T2/vs_gk_130/vs_gk_t2_refT2.nii.gz’: No such file or directory\n",
      "cp: cannot stat ‘/data/bioprotean/BNI/VS_data/nnUNet_raw_data_base/nnUNet_raw_data/prep_reg_T2/vs_gk_160/vs_gk_t2_refT2.nii.gz’: No such file or directory\n",
      "cp: cannot stat ‘/data/bioprotean/BNI/VS_data/nnUNet_raw_data_base/nnUNet_raw_data/prep_reg_T2/vs_gk_168/vs_gk_t2_refT2.nii.gz’: No such file or directory\n"
     ]
    }
   ],
   "source": [
    "%%bash\n",
    "zeros=\"000\"\n",
    "for i in {1..201}\n",
    "do\n",
    "    temp_num=\"$zeros$i\"\n",
    "    input=/data/bioprotean/BNI/VS_data/nnUNet_raw_data_base/nnUNet_raw_data/prep_reg_T2/vs_gk_$i/vs_gk_t2_refT2.nii.gz\n",
    "    output=/data/bioprotean/BNI/VS_data/nnUNet_raw_data_base/nnUNet_raw_data/Task003_VSfull/imagesTr/VS_${temp_num:(-3)}_0001.nii.gz\n",
    "    scp $input $output\n",
    "done"
   ]
  },
  {
   "cell_type": "code",
   "execution_count": 11,
   "metadata": {},
   "outputs": [
    {
     "name": "stderr",
     "output_type": "stream",
     "text": [
      "cp: cannot stat ‘/data/bioprotean/BNI/VS_data/nnUNet_raw_data_base/nnUNet_raw_data/prep_reg_T2/vs_gk_208/vs_gk_t2_refT2.nii.gz’: No such file or directory\n",
      "cp: cannot stat ‘/data/bioprotean/BNI/VS_data/nnUNet_raw_data_base/nnUNet_raw_data/prep_reg_T2/vs_gk_219/vs_gk_t2_refT2.nii.gz’: No such file or directory\n",
      "cp: cannot stat ‘/data/bioprotean/BNI/VS_data/nnUNet_raw_data_base/nnUNet_raw_data/prep_reg_T2/vs_gk_227/vs_gk_t2_refT2.nii.gz’: No such file or directory\n"
     ]
    }
   ],
   "source": [
    "%%bash\n",
    "zeros=\"000\"\n",
    "for i in {202..250}\n",
    "do\n",
    "    temp_num=\"$zeros$i\"\n",
    "    input=/data/bioprotean/BNI/VS_data/nnUNet_raw_data_base/nnUNet_raw_data/prep_reg_T2/vs_gk_$i/vs_gk_t2_refT2.nii.gz\n",
    "    output=/data/bioprotean/BNI/VS_data/nnUNet_raw_data_base/nnUNet_raw_data/Task003_VSfull/imagesTs/VS_${temp_num:(-3)}_0001.nii.gz\n",
    "    scp $input $output\n",
    "done"
   ]
  },
  {
   "cell_type": "code",
   "execution_count": 12,
   "metadata": {},
   "outputs": [
    {
     "name": "stderr",
     "output_type": "stream",
     "text": [
      "cp: cannot stat ‘/data/bioprotean/BNI/VS_data/nnUNet_raw_data_base/nnUNet_raw_data/prep_reg_T2/vs_gk_39/vs_gk_seg_refT2.nii.gz’: No such file or directory\n",
      "cp: cannot stat ‘/data/bioprotean/BNI/VS_data/nnUNet_raw_data_base/nnUNet_raw_data/prep_reg_T2/vs_gk_97/vs_gk_seg_refT2.nii.gz’: No such file or directory\n",
      "cp: cannot stat ‘/data/bioprotean/BNI/VS_data/nnUNet_raw_data_base/nnUNet_raw_data/prep_reg_T2/vs_gk_130/vs_gk_seg_refT2.nii.gz’: No such file or directory\n",
      "cp: cannot stat ‘/data/bioprotean/BNI/VS_data/nnUNet_raw_data_base/nnUNet_raw_data/prep_reg_T2/vs_gk_160/vs_gk_seg_refT2.nii.gz’: No such file or directory\n",
      "cp: cannot stat ‘/data/bioprotean/BNI/VS_data/nnUNet_raw_data_base/nnUNet_raw_data/prep_reg_T2/vs_gk_168/vs_gk_seg_refT2.nii.gz’: No such file or directory\n"
     ]
    }
   ],
   "source": [
    "%%bash\n",
    "zeros=\"000\"\n",
    "for i in {1..201}\n",
    "do\n",
    "    temp_num=\"$zeros$i\"\n",
    "    input=/data/bioprotean/BNI/VS_data/nnUNet_raw_data_base/nnUNet_raw_data/prep_reg_T2/vs_gk_$i/vs_gk_seg_refT2.nii.gz\n",
    "    output=/data/bioprotean/BNI/VS_data/nnUNet_raw_data_base/nnUNet_raw_data/Task003_VSfull/labelsTr/VS_${temp_num:(-3)}.nii.gz\n",
    "    scp $input $output\n",
    "done"
   ]
  },
  {
   "cell_type": "code",
   "execution_count": 13,
   "metadata": {},
   "outputs": [
    {
     "name": "stderr",
     "output_type": "stream",
     "text": [
      "cp: cannot stat ‘/data/bioprotean/BNI/VS_data/nnUNet_raw_data_base/nnUNet_raw_data/prep_reg_T2/vs_gk_208/vs_gk_seg_refT2.nii.gz’: No such file or directory\n",
      "cp: cannot stat ‘/data/bioprotean/BNI/VS_data/nnUNet_raw_data_base/nnUNet_raw_data/prep_reg_T2/vs_gk_219/vs_gk_seg_refT2.nii.gz’: No such file or directory\n",
      "cp: cannot stat ‘/data/bioprotean/BNI/VS_data/nnUNet_raw_data_base/nnUNet_raw_data/prep_reg_T2/vs_gk_227/vs_gk_seg_refT2.nii.gz’: No such file or directory\n"
     ]
    }
   ],
   "source": [
    "%%bash\n",
    "zeros=\"000\"\n",
    "for i in {202..250}\n",
    "do\n",
    "    temp_num=\"$zeros$i\"\n",
    "    input=/data/bioprotean/BNI/VS_data/nnUNet_raw_data_base/nnUNet_raw_data/prep_reg_T2/vs_gk_$i/vs_gk_seg_refT2.nii.gz\n",
    "    output=/data/bioprotean/BNI/VS_data/nnUNet_raw_data_base/nnUNet_raw_data/Task003_VSfull/labelsTs/VS_${temp_num:(-3)}.nii.gz\n",
    "    scp $input $output\n",
    "done"
   ]
  }
 ],
 "metadata": {
  "kernelspec": {
   "display_name": "nnunet_kernel",
   "language": "python",
   "name": "momo_nnunet"
  },
  "language_info": {
   "codemirror_mode": {
    "name": "ipython",
    "version": 3
   },
   "file_extension": ".py",
   "mimetype": "text/x-python",
   "name": "python",
   "nbconvert_exporter": "python",
   "pygments_lexer": "ipython3",
   "version": "3.6.13"
  }
 },
 "nbformat": 4,
 "nbformat_minor": 2
}
