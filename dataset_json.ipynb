{
 "cells": [
  {
   "cell_type": "markdown",
   "metadata": {},
   "source": [
    "# Creating dataset.json"
   ]
  },
  {
   "cell_type": "code",
   "execution_count": 1,
   "metadata": {},
   "outputs": [
    {
     "name": "stdout",
     "output_type": "stream",
     "text": [
      "\n",
      "\n",
      "Please cite the following paper when using nnUNet:\n",
      "\n",
      "Isensee, F., Jaeger, P.F., Kohl, S.A.A. et al. \"nnU-Net: a self-configuring method for deep learning-based biomedical image segmentation.\" Nat Methods (2020). https://doi.org/10.1038/s41592-020-01008-z\n",
      "\n",
      "\n",
      "If you have questions or suggestions, feel free to open an issue at https://github.com/MIC-DKFZ/nnUNet\n",
      "\n"
     ]
    }
   ],
   "source": [
    "import nnunet.dataset_conversion.utils as utils\n",
    "# https://github.com/MIC-DKFZ/nnUNet/blob/master/nnunet/dataset_conversion/utils.py\n",
    "# Using this function"
   ]
  },
  {
   "cell_type": "code",
   "execution_count": 9,
   "metadata": {},
   "outputs": [],
   "source": [
    "utils.generate_dataset_json(\\\n",
    "                            output_file = '/data/bioprotean/BNI/VS_data/nnunet_ready/dataset.json',\\\n",
    "                            imagesTr_dir = '/data/bioprotean/BNI/VS_data/nnunet_ready/imagesTr/',\\\n",
    "                            imagesTs_dir = '/data/bioprotean/BNI/VS_data/nnunet_ready/imagesTs/',\\\n",
    "                            modalities = ('T2', 'T1'),\\\n",
    "                            labels = {0: 'background', 1: 'VS'},\\\n",
    "                            dataset_name = 'TCIA Vestibular Schwannoma',\\\n",
    "                            sort_keys = True,\\\n",
    "                            license = \"hands off!\",\\\n",
    "                            dataset_description = \"TCIA Vestibular Schwannoma\",\\\n",
    "                            dataset_reference = \"https://wiki.cancerimagingarchive.net/pages/viewpage.action?pageId=70229053\",\\\n",
    "                            dataset_release = '0.0')"
   ]
  },
  {
   "cell_type": "code",
   "execution_count": 10,
   "metadata": {},
   "outputs": [],
   "source": [
    "# Re-making it because the data moved to /data/bioprotean/BNI/VS_data/nnUNet_raw_data_base/nnUNet_raw_data/Task001_VS/\n",
    "utils.generate_dataset_json(\\\n",
    "    output_file = '/data/bioprotean/BNI/VS_data/nnUNet_raw_data_base/nnUNet_raw_data/Task001_VS/dataset.json',\\\n",
    "    imagesTr_dir = '/data/bioprotean/BNI/VS_data/nnUNet_raw_data_base/nnUNet_raw_data/Task001_VS/imagesTr/',\\\n",
    "    imagesTs_dir = '/data/bioprotean/BNI/VS_data/nnUNet_raw_data_base/nnUNet_raw_data/Task001_VS/imagesTs/',\\\n",
    "                            modalities = ('T2', 'T1'),\\\n",
    "                            labels = {0: 'background', 1: 'VS'},\\\n",
    "                            dataset_name = 'TCIA Vestibular Schwannoma',\\\n",
    "                            sort_keys = True,\\\n",
    "                            license = \"hands off!\",\\\n",
    "                            dataset_description = \"TCIA Vestibular Schwannoma\",\\\n",
    "                            dataset_reference = \"https://wiki.cancerimagingarchive.net/pages/viewpage.action?pageId=70229053\",\\\n",
    "                            dataset_release = '0.0')"
   ]
  },
  {
   "cell_type": "code",
   "execution_count": 2,
   "metadata": {},
   "outputs": [],
   "source": [
    "# Re-making it for the TEST data (T2 registered to T1)\n",
    "utils.generate_dataset_json(\\\n",
    "    output_file = '/data/bioprotean/BNI/VS_data/nnUNet_raw_data_base/nnUNet_raw_data/Task002_VStest/dataset.json',\\\n",
    "    imagesTr_dir = '/data/bioprotean/BNI/VS_data/nnUNet_raw_data_base/nnUNet_raw_data/Task002_VStest/imagesTr/',\\\n",
    "    imagesTs_dir = '/data/bioprotean/BNI/VS_data/nnUNet_raw_data_base/nnUNet_raw_data/Task002_VStest/imagesTs/',\\\n",
    "                            modalities = ('T1', 'T2'),\\\n",
    "                            labels = {0: 'background', 1: 'VS'},\\\n",
    "                            dataset_name = 'TCIA Vestibular Schwannoma',\\\n",
    "                            sort_keys = True,\\\n",
    "                            license = \"hands off!\",\\\n",
    "                            dataset_description = \"TCIA Vestibular Schwannoma\",\\\n",
    "                            dataset_reference = \"https://wiki.cancerimagingarchive.net/pages/viewpage.action?pageId=70229053\",\\\n",
    "                            dataset_release = '0.0')"
   ]
  },
  {
   "cell_type": "code",
   "execution_count": 3,
   "metadata": {},
   "outputs": [],
   "source": [
    "# Re-making it for the complete data (T2 registered to T1)\n",
    "utils.generate_dataset_json(\\\n",
    "    output_file = '/data/bioprotean/BNI/VS_data/nnUNet_raw_data_base/nnUNet_raw_data/Task003_VSfull/dataset.json',\\\n",
    "    imagesTr_dir = '/data/bioprotean/BNI/VS_data/nnUNet_raw_data_base/nnUNet_raw_data/Task003_VSfull/imagesTr/',\\\n",
    "    imagesTs_dir = '/data/bioprotean/BNI/VS_data/nnUNet_raw_data_base/nnUNet_raw_data/Task003_VSfull/imagesTs/',\\\n",
    "                            modalities = ('T1', 'T2'),\\\n",
    "                            labels = {0: 'background', 1: 'VS'},\\\n",
    "                            dataset_name = 'TCIA Vestibular Schwannoma',\\\n",
    "                            sort_keys = True,\\\n",
    "                            license = \"hands off!\",\\\n",
    "                            dataset_description = \"TCIA Vestibular Schwannoma\",\\\n",
    "                            dataset_reference = \"https://wiki.cancerimagingarchive.net/pages/viewpage.action?pageId=70229053\",\\\n",
    "                            dataset_release = '0.0')"
   ]
  }
 ],
 "metadata": {
  "kernelspec": {
   "display_name": "nnunet_kernel",
   "language": "python",
   "name": "momo_nnunet"
  },
  "language_info": {
   "codemirror_mode": {
    "name": "ipython",
    "version": 3
   },
   "file_extension": ".py",
   "mimetype": "text/x-python",
   "name": "python",
   "nbconvert_exporter": "python",
   "pygments_lexer": "ipython3",
   "version": "3.6.13"
  }
 },
 "nbformat": 4,
 "nbformat_minor": 2
}
