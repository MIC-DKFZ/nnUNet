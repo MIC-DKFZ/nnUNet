{
 "cells": [
  {
   "cell_type": "code",
   "execution_count": null,
   "metadata": {},
   "outputs": [],
   "source": [
    "# Setting environment variables"
   ]
  },
  {
   "cell_type": "code",
   "execution_count": 1,
   "metadata": {},
   "outputs": [],
   "source": [
    "%%bash\n",
    "export nnUNet_raw_data_base=\"/data/bioprotean/BNI/VS_data/nnUNet_raw_data_base\"\n",
    "export nnUNet_preprocessed=\"/data/bioprotean/BNI/VS_data/nnUNet_preprocessed\"\n",
    "export RESULTS_FOLDER=\"/data/bioprotean/BNI/VS_data/nnUNet_trained_models\""
   ]
  }
 ],
 "metadata": {
  "kernelspec": {
   "display_name": "Py3-basic",
   "language": "python",
   "name": "python3"
  },
  "language_info": {
   "codemirror_mode": {
    "name": "ipython",
    "version": 3
   },
   "file_extension": ".py",
   "mimetype": "text/x-python",
   "name": "python",
   "nbconvert_exporter": "python",
   "pygments_lexer": "ipython3",
   "version": "3.7.2"
  }
 },
 "nbformat": 4,
 "nbformat_minor": 2
}
